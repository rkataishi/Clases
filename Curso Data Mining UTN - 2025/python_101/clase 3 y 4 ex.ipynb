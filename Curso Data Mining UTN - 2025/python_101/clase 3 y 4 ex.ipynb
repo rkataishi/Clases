{
 "cells": [
  {
   "cell_type": "markdown",
   "metadata": {},
   "source": [
    "# Clase 3 y 4: Exploración y Preparación de Datos con Python\n",
    "\n",
    "Este notebook cubre los conceptos fundamentales para la exploración y preparación de datos utilizando Python, enfocándose en las librerías `pandas` y `json`. Se estructura en bloques temáticos que van desde las estructuras de datos básicas hasta un caso integrador."
   ]
  },
  {
   "cell_type": "markdown",
   "metadata": {},
   "source": [
    "## Configuración Inicial: Importación de Librerías\n",
    "\n",
    "Antes de comenzar, importamos las librerías que utilizaremos a lo largo del notebook. \n",
    "\n",
    "*   `pandas`: Es la librería fundamental para la manipulación y análisis de datos tabulares en Python. Proporciona estructuras de datos como `DataFrame` y `Series`.\n",
    "*   `json`: Permite trabajar con datos en formato JSON (JavaScript Object Notation), muy común para el intercambio de datos en la web.\n",
    "*   `matplotlib.pyplot`: Es una librería para crear visualizaciones estáticas, animadas e interactivas.\n",
    "*   `io.StringIO`: Permite tratar cadenas de texto (strings) en memoria como si fueran archivos, útil para simular la lectura/escritura de archivos CSV.\n",
    "*   `re`: Proporciona operaciones con expresiones regulares, útiles para la manipulación avanzada de texto.\n",
    "\n",
    "La línea `%matplotlib inline` es un comando específico de Jupyter que asegura que los gráficos generados por Matplotlib se muestren directamente en la salida de la celda del notebook."
   ]
  },
  {
   "cell_type": "code",
   "execution_count": 2,
   "metadata": {},
   "outputs": [],
   "source": [
    "# Imports generales\n",
    "import pandas as pd\n",
    "import json\n",
    "import matplotlib.pyplot as plt\n",
    "from io import StringIO\n",
    "import re\n",
    "\n",
    "# Configuración para mostrar gráficos inline en Jupyter\n",
    "%matplotlib inline"
   ]
  },
  {
   "cell_type": "markdown",
   "metadata": {},
   "source": [
    "> Notar como los comandos aparecen subrayados, esto indica que me va a dar un error al momento de correr la celda, porque esos paquetes no están instalados en el env. \n",
    "\n",
    "Una vez que (1) activamos el env, (2) instalamos los paquetes, (3) seleccionamos el interprete en vs-code y (4) el interprete en la celda, podemos correr todo. Vs-code guarda la configuración durante la sesión. Si cerramos todo, hay que volver a hacer los pasos 1, 3 y 4. "
   ]
  },
  {
   "cell_type": "code",
   "execution_count": 3,
   "metadata": {},
   "outputs": [],
   "source": [
    "# Imports generales\n",
    "import pandas as pd\n",
    "import json\n",
    "import matplotlib.pyplot as plt\n",
    "from io import StringIO\n",
    "import re\n",
    "\n",
    "# Configuración para mostrar gráficos inline en Jupyter\n",
    "%matplotlib inline"
   ]
  },
  {
   "cell_type": "markdown",
   "metadata": {},
   "source": [
    "Instalando desde la notebook en lugar de la terminal"
   ]
  },
  {
   "cell_type": "code",
   "execution_count": 4,
   "metadata": {},
   "outputs": [
    {
     "name": "stdout",
     "output_type": "stream",
     "text": [
      "Requirement already satisfied: pandas in /opt/anaconda3/envs/teaching/lib/python3.11/site-packages (2.2.3)\n",
      "Requirement already satisfied: numpy>=1.23.2 in /opt/anaconda3/envs/teaching/lib/python3.11/site-packages (from pandas) (2.2.4)\n",
      "Requirement already satisfied: python-dateutil>=2.8.2 in /opt/anaconda3/envs/teaching/lib/python3.11/site-packages (from pandas) (2.9.0.post0)\n",
      "Requirement already satisfied: pytz>=2020.1 in /opt/anaconda3/envs/teaching/lib/python3.11/site-packages (from pandas) (2025.2)\n",
      "Requirement already satisfied: tzdata>=2022.7 in /opt/anaconda3/envs/teaching/lib/python3.11/site-packages (from pandas) (2025.2)\n",
      "Requirement already satisfied: six>=1.5 in /opt/anaconda3/envs/teaching/lib/python3.11/site-packages (from python-dateutil>=2.8.2->pandas) (1.16.0)\n",
      "Note: you may need to restart the kernel to use updated packages.\n"
     ]
    }
   ],
   "source": [
    "%pip install pandas"
   ]
  },
  {
   "cell_type": "markdown",
   "metadata": {},
   "source": [
    "Caminos posibles: \n",
    "- seleccionar el interprete de python y jupyter de la lista de vs code, si ya los tenemos instalados. \n",
    "    - si no hay uno, instalar con conda\n",
    "- instalar los paquetes requeridos con 'pip install'\n",
    "\n",
    "> si queremos correr los comandos de terminal directamente desde la notebook, y no desde la terminal a nivel del env, podemos hacerlo, y debemos antemponer '!' antes del comando: \n",
    "\n",
    "`\n",
    "%pip install pandas\n",
    "`\n",
    "\n",
    "> MUCHO OJO CON USAR \"!\" COMO ALTERNATIVA A ESTO, NO ES NADA RECOMENDABLE. \n",
    "\n",
    "> también notar que en general, uno puede seguir la regla de que el nombre del paquete de importación es el mismo que se usa para la instalación del pip (import pandas --> pip install pandas), pero cuidado! hay excepciones. Si sale error en el pip install, hay que buscar en google (en el sitio pip) cómo se llama la librería"
   ]
  },
  {
   "cell_type": "markdown",
   "metadata": {},
   "source": [
    "Ante la advertencia: \n",
    "Note: you may need to restart the kernel to use updated packages."
   ]
  },
  {
   "cell_type": "markdown",
   "metadata": {},
   "source": [
    "ctrl+shift+p > Jupyter: restart kernel \n",
    "\n"
   ]
  },
  {
   "cell_type": "code",
   "execution_count": null,
   "metadata": {},
   "outputs": [
    {
     "ename": "",
     "evalue": "",
     "output_type": "error",
     "traceback": [
      "\u001b[1;31mThe Kernel crashed while executing code in the current cell or a previous cell. \n",
      "\u001b[1;31mPlease review the code in the cell(s) to identify a possible cause of the failure. \n",
      "\u001b[1;31mClick <a href='https://aka.ms/vscodeJupyterKernelCrash'>here</a> for more info. \n",
      "\u001b[1;31mView Jupyter <a href='command:jupyter.viewOutput'>log</a> for further details."
     ]
    }
   ],
   "source": [
    "# Esto fuerza cierre del proceso del kernel (Colab lo reinicia automáticamente)\n",
    "import os\n",
    "import IPython\n",
    "\n",
    "os.kill(os.getpid(), 9)\n",
    "\n",
    "\n",
    "#Esto sin embargo, me obliga a volver a ejecutar todo mi codigo previo, es como si cerrara todo y volviera a comenzar. Es una alternativa que sólo tiene sentido si sabemos que vamos a correr cosas que van a romper algo y vamos a probar iteraciones con eso. Esta celda no debe quedar en el medio del workflow porque reinicia todo. USAR CON PRECAUCIÓN. "
   ]
  },
  {
   "cell_type": "code",
   "execution_count": 5,
   "metadata": {},
   "outputs": [
    {
     "name": "stdout",
     "output_type": "stream",
     "text": [
      "Importaciones, check. \n"
     ]
    }
   ],
   "source": [
    "\n",
    "# Paso necesario porque reinicié el Kernel... \n",
    "\n",
    "\n",
    "\n",
    "# Imports generales\n",
    "import pandas as pd\n",
    "import json\n",
    "import matplotlib.pyplot as plt\n",
    "from io import StringIO\n",
    "import re\n",
    "\n",
    "# Configuración para mostrar gráficos inline en Jupyter\n",
    "%matplotlib inline\n",
    "\n",
    "print(\"Importaciones, check. \")"
   ]
  },
  {
   "cell_type": "markdown",
   "metadata": {},
   "source": [
    "# ESTRUCTURAS BÁSICAS DE PYTHON PARA DATOS\n",
    "\n",
    "**Objetivo:** Comprender y manipular las estructuras de datos fundamentales de Python (listas, diccionarios) que son la base para manejar datos antes de usar librerías especializadas como Pandas. Reconoceremos tipos de datos básicos y veremos cómo se anidan estas estructuras, introduciendo el formato JSON.\n"
   ]
  },
  {
   "cell_type": "markdown",
   "metadata": {},
   "source": [
    "## Actividad 1: Tipos de Datos Primitivos\n",
    "\n",
    "En Python, todo dato tiene un tipo asociado. Los tipos básicos o primitivos son los bloques de construcción fundamentales. Entenderlos es crucial porque determinan qué operaciones podemos realizar con ellos.\n",
    "\n",
    "*   `int`: Números enteros (ej: `32`, `-5`).\n",
    "*   `str`: Cadenas de texto (ej: `\"Sofía\"`, `'Hola Mundo'`). Se definen con comillas simples o dobles.\n",
    "*   `bool`: Valores booleanos, que solo pueden ser `True` o `False`. Útiles para representar estados o condiciones.\n",
    "*   `float`: Números de punto flotante (decimales) (ej: `188750.50`, `3.14`).\n",
    "\n",
    "La función `type()` nos permite inspeccionar el tipo de una variable."
   ]
  },
  {
   "cell_type": "code",
   "execution_count": 6,
   "metadata": {},
   "outputs": [
    {
     "name": "stdout",
     "output_type": "stream",
     "text": [
      "Variable: edad_simple, Valor: 32, Tipo: <class 'int'>\n",
      "Variable: nombre_simple, Valor: Sofía, Tipo: <class 'str'>\n",
      "Variable: activo_simple, Valor: True, Tipo: <class 'bool'>\n",
      "Variable: ingresos_simple, Valor: 188750.5, Tipo: <class 'float'>\n"
     ]
    }
   ],
   "source": [
    "edad_simple = 32\n",
    "nombre_simple = \"Sofía\"\n",
    "activo_simple = True\n",
    "ingresos_simple = 188750.50\n",
    "\n",
    "print(f\"Variable: edad_simple, Valor: {edad_simple}, Tipo: {type(edad_simple)}\")\n",
    "print(f\"Variable: nombre_simple, Valor: {nombre_simple}, Tipo: {type(nombre_simple)}\")\n",
    "print(f\"Variable: activo_simple, Valor: {activo_simple}, Tipo: {type(activo_simple)}\")\n",
    "print(f\"Variable: ingresos_simple, Valor: {ingresos_simple}, Tipo: {type(ingresos_simple)}\")"
   ]
  },
  {
   "cell_type": "markdown",
   "metadata": {},
   "source": [
    "**Observación:** Estos tipos simples son la base, pero los datos del mundo real rara vez vienen perfectamente organizados solo con estos tipos. A menudo encontraremos mezclas o representaciones incorrectas (ej: números como texto)."
   ]
  },
  {
   "cell_type": "markdown",
   "metadata": {},
   "source": [
    "## Actividad 2: Listas - Colecciones Ordenadas\n",
    "\n",
    "Las listas (`list`) son una de las estructuras de datos más versátiles de Python. Permiten almacenar una colección ordenada de ítems. \n",
    "\n",
    "*   **Ordenadas:** Los elementos mantienen el orden en que fueron añadidos.\n",
    "*   **Mutables:** Se pueden modificar después de su creación (añadir, eliminar, cambiar elementos).\n",
    "*   **Indexadas:** Se accede a los elementos mediante un índice numérico, comenzando desde 0 para el primer elemento. También se pueden usar índices negativos (`-1` para el último, `-2` para el penúltimo, etc.).\n",
    "*   **Heterogéneas:** Pueden contener elementos de diferentes tipos (aunque para análisis de datos, usualmente preferimos listas homogéneas).\n",
    "\n",
    "Se definen usando corchetes `[]`."
   ]
  },
  {
   "cell_type": "code",
   "execution_count": null,
   "metadata": {},
   "outputs": [],
   "source": [
    "# Lista con valores homogéneos (todos enteros)\n",
    "edades_lista = [24, 33, 19, 45, 28]\n",
    "print(f\"Lista de edades: {edades_lista}\")"
   ]
  },
  {
   "cell_type": "code",
   "execution_count": null,
   "metadata": {},
   "outputs": [],
   "source": [
    "# Acceso a elementos por índice\n",
    "print(f\"Primer elemento (índice 0): {edades_lista[0]}\")\n",
    "print(f\"Último elemento (índice -1): {edades_lista[-1]}\")"
   ]
  },
  {
   "cell_type": "code",
   "execution_count": null,
   "metadata": {},
   "outputs": [],
   "source": [
    "# Iteración sobre la lista usando un bucle 'for'\n",
    "print(\"\\nRecorriendo la lista:\")\n",
    "for edad_item in edades_lista:\n",
    "    print(f\"Edad: {edad_item}\")"
   ]
  },
  {
   "cell_type": "code",
   "execution_count": null,
   "metadata": {},
   "outputs": [],
   "source": [
    "# Ejemplo de lista heterogénea (mezcla de tipos)\n",
    "edades_mezcla = [24, \"33\", None, 45, \"veintiocho\"]\n",
    "print(f\"\\nLista heterogénea: {edades_mezcla}\")"
   ]
  },
  {
   "cell_type": "markdown",
   "metadata": {},
   "source": [
    "**Discusión:** La lista `edades_lista` es ideal porque todos sus elementos son números, permitiendo operaciones matemáticas (como calcular el promedio). En cambio, `edades_mezcla` presenta un desafío común en datos reales: contiene un número como texto (`\"33\"`), un valor nulo (`None`), y un número escrito con palabras (`\"veintiocho\"`). Estas inconsistencias impiden cálculos directos y requerirán limpieza (como veremos en bloques posteriores)."
   ]
  },
  {
   "cell_type": "markdown",
   "metadata": {},
   "source": [
    "## Actividad 3: Diccionarios - Colecciones Clave-Valor\n",
    "\n",
    "Los diccionarios (`dict`) almacenan pares de `clave: valor`. Son extremadamente útiles para representar entidades individuales (como una persona, un producto, una configuración) donde cada atributo tiene un nombre (la clave) y un valor asociado.\n",
    "\n",
    "*   **Claves:** Deben ser únicas dentro del diccionario y de un tipo inmutable (usualmente strings o números).\n",
    "*   **Valores:** Pueden ser de cualquier tipo (números, strings, listas, otros diccionarios, etc.).\n",
    "*   **Acceso:** Se accede a los valores usando sus claves entre corchetes `[]` o mediante el método `.get()`.\n",
    "*   **Mutables:** Se pueden añadir, modificar o eliminar pares clave-valor.\n",
    "*   **Orden (Python 3.7+):** A partir de Python 3.7, los diccionarios recuerdan el orden de inserción.\n",
    "\n",
    "Se definen usando llaves `{}`."
   ]
  },
  {
   "cell_type": "code",
   "execution_count": 5,
   "metadata": {},
   "outputs": [
    {
     "name": "stdout",
     "output_type": "stream",
     "text": [
      "Diccionario persona: {'nombre': 'Sofía', 'edad': 32, 'activo': True, 'ingresos': 188750.5}\n"
     ]
    }
   ],
   "source": [
    "persona_dict_simple = {\n",
    "    \"nombre\": \"Sofía\",\n",
    "    \"edad\": 32,\n",
    "    \"activo\": True,\n",
    "    \"ingresos\": 188750.50\n",
    "}\n",
    "print(f\"Diccionario persona: {persona_dict_simple}\")"
   ]
  },
  {
   "cell_type": "code",
   "execution_count": 4,
   "metadata": {},
   "outputs": [
    {
     "name": "stdout",
     "output_type": "stream",
     "text": [
      "Diccionario persona: {'nombre': 'Sofía', 'edad': 32, 'activo': True, 'ingresos': 188750.5}\n",
      "Acceso a nombre (usando []): Sofía\n",
      "Acceso a ingresos (usando .get()): 188750.5\n",
      "Acceso a 'ciudad' (clave inexistente): None\n",
      "Acceso a 'ciudad' con valor por defecto: Valor no encontrado\n"
     ]
    }
   ],
   "source": [
    "# Diccionario representando una persona\n",
    "persona_dict_simple = {\n",
    "    \"nombre\": \"Sofía\",\n",
    "    \"edad\": 32,\n",
    "    \"activo\": True,\n",
    "    \"ingresos\": 188750.50\n",
    "}\n",
    "print(f\"Diccionario persona: {persona_dict_simple}\")\n",
    "\n",
    "# Acceso a valores usando la clave\n",
    "print(f\"Acceso a nombre (usando []): {persona_dict_simple['nombre']}\")\n",
    "\n",
    "# Acceso seguro usando .get()\n",
    "# .get() es útil porque no da error si la clave no existe; devuelve None por defecto.\n",
    "print(f\"Acceso a ingresos (usando .get()): {persona_dict_simple.get('ingresos')}\")\n",
    "\n",
    "# Acceso a una clave que no existe con .get()\n",
    "ciudad = persona_dict_simple.get('ciudad')\n",
    "print(f\"Acceso a 'ciudad' (clave inexistente): {ciudad}\")\n",
    "\n",
    "# Acceso a clave inexistente con .get() y valor por defecto\n",
    "ciudad_default = persona_dict_simple.get('ciudad', 'Valor no encontrado')\n",
    "print(f\"Acceso a 'ciudad' con valor por defecto: {ciudad_default}\")\n",
    "\n",
    "# Intentar acceder a una clave inexistente con [] da un error (KeyError)\n",
    "# Descomentar la siguiente línea para ver el error:\n",
    "# print(persona_dict_simple['ciudad'])"
   ]
  },
  {
   "cell_type": "code",
   "execution_count": null,
   "metadata": {},
   "outputs": [],
   "source": [
    "# Diccionario representando una persona\n",
    "persona_dict_simple = {\n",
    "    \"nombre\": \"Sofía\",\n",
    "    \"edad\": 32,\n",
    "    \"activo\": True,\n",
    "    \"ingresos\": 188750.50\n",
    "}"
   ]
  },
  {
   "cell_type": "code",
   "execution_count": null,
   "metadata": {},
   "outputs": [],
   "source": [
    "print(f\"Diccionario persona: {persona_dict_simple}\")"
   ]
  },
  {
   "cell_type": "code",
   "execution_count": null,
   "metadata": {},
   "outputs": [],
   "source": [
    "# Acceso a valores usando la clave\n",
    "print(f\"Acceso a nombre (usando []): {persona_dict_simple['nombre']}\")"
   ]
  },
  {
   "cell_type": "code",
   "execution_count": null,
   "metadata": {},
   "outputs": [],
   "source": [
    "\n",
    "# Acceso seguro usando .get()\n",
    "# .get() es útil porque no da error si la clave no existe; devuelve None por defecto.\n",
    "print(f\"Acceso a ingresos (usando .get()): {persona_dict_simple.get('ingresos')}\")"
   ]
  },
  {
   "cell_type": "code",
   "execution_count": null,
   "metadata": {},
   "outputs": [
    {
     "name": "stdout",
     "output_type": "stream",
     "text": [
      "Acceso a 'ciudad' (clave inexistente): None\n"
     ]
    }
   ],
   "source": [
    "# Acceso a una clave que no existe con .get()\n",
    "# solo tenemos nombres, edad, activo, ingreso... no está la var ciudades\n",
    "ciudad = persona_dict_simple.get('ciudad')\n",
    "print(f\"Acceso a 'ciudad' (clave inexistente): {ciudad}\")\n",
    "\n",
    "#retorna None. "
   ]
  },
  {
   "cell_type": "code",
   "execution_count": 9,
   "metadata": {},
   "outputs": [
    {
     "name": "stdout",
     "output_type": "stream",
     "text": [
      "Acceso a 'ciudad' con valor por defecto: Valor no encontrado para Ciudad\n"
     ]
    }
   ],
   "source": [
    "# Acceso a clave inexistente con .get() y valor por defecto\n",
    "ciudad_default = persona_dict_simple.get('ciudad', 'Valor no encontrado para Ciudad')\n",
    "#si necesito más detalle, puedo especificar qué me devuelve el valor nulo, en lugar de indicar sólo none. \n",
    "print(f\"Acceso a 'ciudad' con valor por defecto: {ciudad_default}\")"
   ]
  },
  {
   "cell_type": "markdown",
   "metadata": {},
   "source": [
    "**Interpretación en Datos:** En un diccionario que representa un registro, las **claves** actúan como los **nombres de las variables** o columnas (ej: 'nombre', 'edad'), y los **valores** son los **datos** correspondientes para ese registro específico (ej: 'Sofía', 32)."
   ]
  },
  {
   "cell_type": "markdown",
   "metadata": {},
   "source": [
    "## Actividad 4: Lista de Diccionarios - Estructura Semi-Tabular\n",
    "\n",
    "Una estructura muy común para representar conjuntos de datos antes de usar Pandas es una **lista donde cada elemento es un diccionario**. Cada diccionario representa una fila o registro, y las claves dentro de cada diccionario representan las columnas.\n",
    "\n",
    "Esta estructura es frecuente al obtener datos de APIs web (que a menudo devuelven JSON) o al procesar formularios.\n",
    "\n",
    "**Ventaja:** Flexible.\n",
    "**Desventaja:** Puede ser inconsistente (diccionarios pueden tener claves diferentes, valores de tipos incorrectos, etc.), lo que requiere validación y limpieza."
   ]
  },
  {
   "cell_type": "code",
   "execution_count": null,
   "metadata": {},
   "outputs": [],
   "source": [
    "# Lista de diccionarios representando varias personas\n",
    "personas = [\n",
    "    {\"nombre\": \"Ana\", \"edad\": 31, \"sexo\": \"F\"},\n",
    "    {\"nombre\": \"Luis\", \"edad\": 28, \"sexo\": \"M\"},\n",
    "    {\"nombre\": \"Carla\", \"edad\": None, \"sexo\": \"F\"}, # Edad faltante (None)\n",
    "    {\"nombre\": \"Juan\", \"edad\": \"veintinueve\", \"sexo\": \"M\"} # Edad como texto\n",
    "]\n",
    "print(f\"Lista de diccionarios (personas):\\n{personas}\")\n",
    "\n",
    "# Tarea: Iterar sobre la lista e imprimir solo los nombres\n",
    "# Accedemos a cada diccionario (persona_item) y luego a su clave 'nombre'\n",
    "print(\"\\nNombres en la lista de personas:\")\n",
    "for persona_item in personas:\n",
    "    print(persona_item[\"nombre\"])"
   ]
  },
  {
   "cell_type": "markdown",
   "metadata": {},
   "source": [
    "**Observación:** Ya vemos problemas potenciales: la edad de Carla es `None` (faltante) y la de Juan es un string (`\"veintinueve\"`). Esto es típico y necesitaremos herramientas (como Pandas) para manejarlo eficientemente."
   ]
  },
  {
   "cell_type": "markdown",
   "metadata": {},
   "source": [
    "## Actividad 4.1: Datos Tabulares y el Formato CSV\n",
    "\n",
    "Antes de sumergirnos en estructuras jerárquicas como JSON, es fundamental entender el formato más común para datos **tabulares**: CSV.\n",
    "\n",
    "### ¿Qué son los Datos Tabulares?\n",
    "\n",
    "Los datos tabulares son aquellos que se organizan en una estructura de **filas y columnas**, similar a una hoja de cálculo o una tabla de una base de datos. Cada **fila** representa un registro u observación individual, y cada **columna** representa una característica o variable específica de esos registros.\n",
    "\n",
    "### ¿Qué es CSV?\n",
    "\n",
    "**CSV** significa **C**omma-**S**eparated **V**alues (Valores Separados por Comas). Es un formato de archivo de **texto plano** muy simple y ampliamente utilizado para almacenar datos tabulares.\n",
    "\n",
    "*   **Estructura Simple:** Cada línea del archivo representa una fila de la tabla.\n",
    "*   **Delimitador:** Dentro de cada fila, los valores (correspondientes a las columnas) están separados por un carácter delimitador, que comúnmente es una **coma (`,`)**. Sin embargo, a veces se usan otros delimitadores como el punto y coma (`;`) o el tabulador (`\\t`).\n",
    "*   **Encabezado (Opcional):** A menudo, la primera línea del archivo CSV contiene los nombres de las columnas (el encabezado o *header*), lo que facilita la interpretación de los datos.\n",
    "*   **Texto Plano:** Al ser texto plano, los archivos CSV pueden ser abiertos y leídos por casi cualquier editor de texto, aunque se visualizan mejor en programas de hojas de cálculo o con herramientas de análisis de datos.\n",
    "\n",
    "**Ejemplo de un archivo CSV simple (`usuarios.csv`):**\n",
    "\n",
    "```csv\n",
    "ID,Nombre,Ciudad\n",
    "1,Ana,Madrid\n",
    "2,Luis,Barcelona\n",
    "3,Eva,Valencia\n"
   ]
  },
  {
   "cell_type": "code",
   "execution_count": 10,
   "metadata": {},
   "outputs": [],
   "source": [
    "# --- 1. Definir los datos y el nombre del archivo ---\n",
    "# Datos para nuestro archivo CSV\n",
    "csv_data = \"\"\"ID,Nombre,Ciudad\n",
    "1,Ana,Madrid\n",
    "2,Luis,Barcelona\n",
    "3,Eva,Valencia\n",
    "4,Juan,Sevilla\"\"\"\n",
    "\n"
   ]
  },
  {
   "cell_type": "code",
   "execution_count": 11,
   "metadata": {},
   "outputs": [
    {
     "name": "stdout",
     "output_type": "stream",
     "text": [
      "usuarios_ejemplo.csv\n"
     ]
    }
   ],
   "source": [
    "\n",
    "nombre_archivo_csv = 'usuarios_ejemplo.csv'\n",
    "\n",
    "# --- 2. Crear y escribir el archivo CSV ---\n",
    "# Abrimos el archivo en modo escritura ('w').\n",
    "# 'with' se asegura de que el archivo se cierre solo al final.\n",
    "# 'encoding='utf-8'' es bueno para compatibilidad.\n",
    "with open(nombre_archivo_csv, 'w', encoding='utf-8') as f:\n",
    "    f.write(csv_data)\n",
    "    \n",
    "    #csv_data es el bloque de datos que definimos en la celda anterior. \n",
    "print(nombre_archivo_csv)\n"
   ]
  },
  {
   "cell_type": "markdown",
   "metadata": {},
   "source": [
    "con \"print(nombre_archivo_csv)\" no se muestra el contenido del archivo\n"
   ]
  },
  {
   "cell_type": "code",
   "execution_count": 12,
   "metadata": {},
   "outputs": [
    {
     "ename": "TypeError",
     "evalue": "argument should be integer or None, not 'str'",
     "output_type": "error",
     "traceback": [
      "\u001b[0;31m---------------------------------------------------------------------------\u001b[0m",
      "\u001b[0;31mTypeError\u001b[0m                                 Traceback (most recent call last)",
      "Cell \u001b[0;32mIn[12], line 1\u001b[0m\n\u001b[0;32m----> 1\u001b[0m \u001b[38;5;28mprint\u001b[39m(f\u001b[38;5;241m.\u001b[39mread(nombre_archivo_csv))\n",
      "\u001b[0;31mTypeError\u001b[0m: argument should be integer or None, not 'str'"
     ]
    }
   ],
   "source": [
    "print(f.read(nombre_archivo_csv))\n",
    "\n",
    "# f.read() no acepta ningún argumento.\n",
    "# f no existe fuera del bloque with."
   ]
  },
  {
   "cell_type": "code",
   "execution_count": null,
   "metadata": {},
   "outputs": [
    {
     "name": "stdout",
     "output_type": "stream",
     "text": [
      "ID,Nombre,Ciudad\n",
      "1,Ana,Madrid\n",
      "2,Luis,Barcelona\n",
      "3,Eva,Valencia\n",
      "4,Juan,Sevilla\n"
     ]
    }
   ],
   "source": [
    "with open(nombre_archivo_csv, 'r', encoding='utf-8') as f:\n",
    "    print(f.read())"
   ]
  },
  {
   "cell_type": "markdown",
   "metadata": {},
   "source": [
    "## ¿Qué es f?\n",
    "\n",
    "**f es una variable temporal** (no es una palabra reservada). Es simplemente el nombre que le ponemosal objeto archivo. Podría llamarse archivo, file, fp, txt, etc.\n",
    "\n",
    "```python\n",
    "\n",
    "with open('archivo.txt', 'r') as archivo:\n",
    "    contenido = archivo.read()\n",
    "```\n",
    "> ahora \"f\" se llama \"archivo\". \n",
    "\n",
    ", 'r': modo lectura. , 'w' modo escritura. \n",
    "\n",
    "## With? \n",
    "\n",
    "\n",
    "Es una forma segura y compacta de trabajar con archivos en Python usando un context manager (with).\n",
    " Al terminar el bloque with, el archivo se cierra automáticamente, incluso si hubo errores dentro.\n",
    "\n",
    "**Se puede ejecutar lo mismo sin with**, pero no es recomendado: \n",
    "\n",
    "```python\n",
    "f = open('archivo.txt', 'r')\n",
    "contenido = f.read()\n",
    "f.close()\n",
    "```\n",
    "\n",
    "Pero si hay un error entre open y close, el archivo podría quedar abierto. Con with, eso nunca pasa.\n",
    "Si no se cierra el archivo con .close() los datos no se guardan. \n",
    "No es recomendado usar este método, pero es bueno saber identificarlo. \n"
   ]
  },
  {
   "cell_type": "markdown",
   "metadata": {},
   "source": [
    "## Ahora visualicemos la matriz de datos: \n",
    "# Usemos Pandas\n"
   ]
  },
  {
   "cell_type": "code",
   "execution_count": null,
   "metadata": {},
   "outputs": [
    {
     "name": "stdout",
     "output_type": "stream",
     "text": [
      "\n",
      "Leyendo el archivo 'usuarios_ejemplo.csv' con Pandas...\n"
     ]
    },
    {
     "data": {
      "text/html": [
       "<div>\n",
       "<style scoped>\n",
       "    .dataframe tbody tr th:only-of-type {\n",
       "        vertical-align: middle;\n",
       "    }\n",
       "\n",
       "    .dataframe tbody tr th {\n",
       "        vertical-align: top;\n",
       "    }\n",
       "\n",
       "    .dataframe thead th {\n",
       "        text-align: right;\n",
       "    }\n",
       "</style>\n",
       "<table border=\"1\" class=\"dataframe\">\n",
       "  <thead>\n",
       "    <tr style=\"text-align: right;\">\n",
       "      <th></th>\n",
       "      <th>ID</th>\n",
       "      <th>Nombre</th>\n",
       "      <th>Ciudad</th>\n",
       "    </tr>\n",
       "  </thead>\n",
       "  <tbody>\n",
       "    <tr>\n",
       "      <th>0</th>\n",
       "      <td>1</td>\n",
       "      <td>Ana</td>\n",
       "      <td>Madrid</td>\n",
       "    </tr>\n",
       "    <tr>\n",
       "      <th>1</th>\n",
       "      <td>2</td>\n",
       "      <td>Luis</td>\n",
       "      <td>Barcelona</td>\n",
       "    </tr>\n",
       "    <tr>\n",
       "      <th>2</th>\n",
       "      <td>3</td>\n",
       "      <td>Eva</td>\n",
       "      <td>Valencia</td>\n",
       "    </tr>\n",
       "    <tr>\n",
       "      <th>3</th>\n",
       "      <td>4</td>\n",
       "      <td>Juan</td>\n",
       "      <td>Sevilla</td>\n",
       "    </tr>\n",
       "  </tbody>\n",
       "</table>\n",
       "</div>"
      ],
      "text/plain": [
       "   ID Nombre     Ciudad\n",
       "0   1    Ana     Madrid\n",
       "1   2   Luis  Barcelona\n",
       "2   3    Eva   Valencia\n",
       "3   4   Juan    Sevilla"
      ]
     },
     "execution_count": 13,
     "metadata": {},
     "output_type": "execute_result"
    }
   ],
   "source": [
    "# Importar la librería pandas (convención: importarla como pd)\n",
    "import pandas as pd\n",
    "\n",
    "\n",
    "csv_data = \"\"\"ID,Nombre,Ciudad\n",
    "1,Ana,Madrid\n",
    "2,Luis,Barcelona\n",
    "3,Eva,Valencia\n",
    "4,Juan,Sevilla\"\"\"\n",
    "\n",
    "nombre_archivo_csv = 'usuarios_ejemplo.csv'\n",
    "\n",
    "with open(nombre_archivo_csv, 'w', encoding='utf-8') as f:\n",
    "    f.write(csv_data)\n",
    "\n",
    "# --- 3. Leer / Cargar el archivo CSV con Pandas ---\n",
    "# Leemos el archivo que acabamos de crear.\n",
    "df_usuarios = pd.read_csv(nombre_archivo_csv)\n",
    "\n",
    "df_usuarios"
   ]
  },
  {
   "cell_type": "code",
   "execution_count": 14,
   "metadata": {},
   "outputs": [
    {
     "name": "stdout",
     "output_type": "stream",
     "text": [
      "   ID Nombre     Ciudad\n",
      "0   1    Ana     Madrid\n",
      "1   2   Luis  Barcelona\n",
      "2   3    Eva   Valencia\n",
      "3   4   Juan    Sevilla\n"
     ]
    }
   ],
   "source": [
    "print(df_usuarios)"
   ]
  },
  {
   "cell_type": "code",
   "execution_count": null,
   "metadata": {},
   "outputs": [
    {
     "data": {
      "text/html": [
       "<div>\n",
       "<style scoped>\n",
       "    .dataframe tbody tr th:only-of-type {\n",
       "        vertical-align: middle;\n",
       "    }\n",
       "\n",
       "    .dataframe tbody tr th {\n",
       "        vertical-align: top;\n",
       "    }\n",
       "\n",
       "    .dataframe thead th {\n",
       "        text-align: right;\n",
       "    }\n",
       "</style>\n",
       "<table border=\"1\" class=\"dataframe\">\n",
       "  <thead>\n",
       "    <tr style=\"text-align: right;\">\n",
       "      <th></th>\n",
       "      <th>ID</th>\n",
       "      <th>Nombre</th>\n",
       "      <th>Ciudad</th>\n",
       "    </tr>\n",
       "  </thead>\n",
       "  <tbody>\n",
       "    <tr>\n",
       "      <th>0</th>\n",
       "      <td>1</td>\n",
       "      <td>Ana</td>\n",
       "      <td>Madrid</td>\n",
       "    </tr>\n",
       "    <tr>\n",
       "      <th>1</th>\n",
       "      <td>2</td>\n",
       "      <td>Luis</td>\n",
       "      <td>Barcelona</td>\n",
       "    </tr>\n",
       "  </tbody>\n",
       "</table>\n",
       "</div>"
      ],
      "text/plain": [
       "   ID Nombre     Ciudad\n",
       "0   1    Ana     Madrid\n",
       "1   2   Luis  Barcelona"
      ]
     },
     "execution_count": 18,
     "metadata": {},
     "output_type": "execute_result"
    }
   ],
   "source": [
    "df_usuarios.head(2)\n",
    "# veamos solo el encabezado, las dos primeras filas a ver cómo se ve el df. "
   ]
  },
  {
   "cell_type": "markdown",
   "metadata": {},
   "source": [
    "### Nota sobre orden, funciones() y argumentos()\n",
    "\n",
    "> funciones(algo)\n",
    "\n",
    "Las funciones realizan una acción sobre el elemento que pasemos \"algo\". \n",
    "\n",
    "> algo.argumento()\n",
    "\n",
    "Los argumentos sólo operan sobre elementos de un cierto tipo. \"algo\" en este caso es afectado por el argumento. \n",
    "\n",
    "> funciones(algo.argumento())\n",
    "\n",
    "Lo de arriba es un ejemplo de encadenamiento típico. \n"
   ]
  },
  {
   "cell_type": "code",
   "execution_count": 20,
   "metadata": {},
   "outputs": [
    {
     "data": {
      "text/plain": [
       "pandas.core.frame.DataFrame"
      ]
     },
     "execution_count": 20,
     "metadata": {},
     "output_type": "execute_result"
    }
   ],
   "source": [
    "df = df_usuarios\n",
    "type(df)"
   ]
  },
  {
   "cell_type": "code",
   "execution_count": 22,
   "metadata": {},
   "outputs": [
    {
     "data": {
      "text/html": [
       "<div>\n",
       "<style scoped>\n",
       "    .dataframe tbody tr th:only-of-type {\n",
       "        vertical-align: middle;\n",
       "    }\n",
       "\n",
       "    .dataframe tbody tr th {\n",
       "        vertical-align: top;\n",
       "    }\n",
       "\n",
       "    .dataframe thead th {\n",
       "        text-align: right;\n",
       "    }\n",
       "</style>\n",
       "<table border=\"1\" class=\"dataframe\">\n",
       "  <thead>\n",
       "    <tr style=\"text-align: right;\">\n",
       "      <th></th>\n",
       "      <th>ID</th>\n",
       "      <th>Nombre</th>\n",
       "      <th>Ciudad</th>\n",
       "    </tr>\n",
       "  </thead>\n",
       "  <tbody>\n",
       "    <tr>\n",
       "      <th>0</th>\n",
       "      <td>1</td>\n",
       "      <td>Ana</td>\n",
       "      <td>Madrid</td>\n",
       "    </tr>\n",
       "    <tr>\n",
       "      <th>1</th>\n",
       "      <td>2</td>\n",
       "      <td>Luis</td>\n",
       "      <td>Barcelona</td>\n",
       "    </tr>\n",
       "  </tbody>\n",
       "</table>\n",
       "</div>"
      ],
      "text/plain": [
       "   ID Nombre     Ciudad\n",
       "0   1    Ana     Madrid\n",
       "1   2   Luis  Barcelona"
      ]
     },
     "execution_count": 22,
     "metadata": {},
     "output_type": "execute_result"
    }
   ],
   "source": [
    "df.head(2)"
   ]
  },
  {
   "cell_type": "code",
   "execution_count": 24,
   "metadata": {},
   "outputs": [
    {
     "name": "stdout",
     "output_type": "stream",
     "text": [
      "   ID Nombre     Ciudad\n",
      "0   1    Ana     Madrid\n",
      "1   2   Luis  Barcelona\n"
     ]
    }
   ],
   "source": [
    "print(df.head(2))"
   ]
  },
  {
   "cell_type": "code",
   "execution_count": 25,
   "metadata": {},
   "outputs": [
    {
     "ename": "AttributeError",
     "evalue": "'builtin_function_or_method' object has no attribute 'head'",
     "output_type": "error",
     "traceback": [
      "\u001b[0;31m---------------------------------------------------------------------------\u001b[0m",
      "\u001b[0;31mAttributeError\u001b[0m                            Traceback (most recent call last)",
      "Cell \u001b[0;32mIn[25], line 3\u001b[0m\n\u001b[1;32m      1\u001b[0m \u001b[38;5;66;03m# Error típico\u001b[39;00m\n\u001b[0;32m----> 3\u001b[0m \u001b[38;5;28mprint\u001b[39m\u001b[38;5;241m.\u001b[39mhead(df)\n",
      "\u001b[0;31mAttributeError\u001b[0m: 'builtin_function_or_method' object has no attribute 'head'"
     ]
    }
   ],
   "source": [
    "# Error típico\n",
    "\n",
    "print.head(df)"
   ]
  },
  {
   "cell_type": "markdown",
   "metadata": {},
   "source": [
    "**este error** dice algo así como *\"no le podés pasar head() a una función, porque una función de python no tiene \"head\"* \n",
    "\n",
    "Esto sucede porque head() es un atributo de un dataset pandas, o de una columna de un dataset pandas. "
   ]
  },
  {
   "cell_type": "markdown",
   "metadata": {},
   "source": [
    "## Volviendo al df..."
   ]
  },
  {
   "cell_type": "code",
   "execution_count": 26,
   "metadata": {},
   "outputs": [
    {
     "data": {
      "text/html": [
       "<div>\n",
       "<style scoped>\n",
       "    .dataframe tbody tr th:only-of-type {\n",
       "        vertical-align: middle;\n",
       "    }\n",
       "\n",
       "    .dataframe tbody tr th {\n",
       "        vertical-align: top;\n",
       "    }\n",
       "\n",
       "    .dataframe thead th {\n",
       "        text-align: right;\n",
       "    }\n",
       "</style>\n",
       "<table border=\"1\" class=\"dataframe\">\n",
       "  <thead>\n",
       "    <tr style=\"text-align: right;\">\n",
       "      <th></th>\n",
       "      <th>ID</th>\n",
       "      <th>Nombre</th>\n",
       "      <th>Ciudad</th>\n",
       "    </tr>\n",
       "  </thead>\n",
       "  <tbody>\n",
       "    <tr>\n",
       "      <th>0</th>\n",
       "      <td>1</td>\n",
       "      <td>Ana</td>\n",
       "      <td>Madrid</td>\n",
       "    </tr>\n",
       "    <tr>\n",
       "      <th>1</th>\n",
       "      <td>2</td>\n",
       "      <td>Luis</td>\n",
       "      <td>Barcelona</td>\n",
       "    </tr>\n",
       "    <tr>\n",
       "      <th>2</th>\n",
       "      <td>3</td>\n",
       "      <td>Eva</td>\n",
       "      <td>Valencia</td>\n",
       "    </tr>\n",
       "    <tr>\n",
       "      <th>3</th>\n",
       "      <td>4</td>\n",
       "      <td>Juan</td>\n",
       "      <td>Sevilla</td>\n",
       "    </tr>\n",
       "  </tbody>\n",
       "</table>\n",
       "</div>"
      ],
      "text/plain": [
       "   ID Nombre     Ciudad\n",
       "0   1    Ana     Madrid\n",
       "1   2   Luis  Barcelona\n",
       "2   3    Eva   Valencia\n",
       "3   4   Juan    Sevilla"
      ]
     },
     "execution_count": 26,
     "metadata": {},
     "output_type": "execute_result"
    }
   ],
   "source": [
    "# Importar la librería pandas (convención: importarla como pd)\n",
    "import pandas as pd\n",
    "\n",
    "\n",
    "csv_data = \"\"\"ID,Nombre,Ciudad\n",
    "1,Ana,Madrid\n",
    "2,Luis,Barcelona\n",
    "3,Eva,Valencia\n",
    "4,Juan,Sevilla\"\"\"\n",
    "\n",
    "nombre_archivo_csv = 'usuarios_ejemplo.csv'\n",
    "\n",
    "with open(nombre_archivo_csv, 'w', encoding='utf-8') as f:\n",
    "    f.write(csv_data)\n",
    "\n",
    "# --- 3. Leer / Cargar el archivo CSV con Pandas ---\n",
    "# Leemos el archivo que acabamos de crear.\n",
    "df_usuarios = pd.read_csv(nombre_archivo_csv)\n",
    "\n",
    "df_usuarios"
   ]
  },
  {
   "cell_type": "markdown",
   "metadata": {},
   "source": [
    "**Podemos explorar el csv**... antes de deshacernos de él, :)\n",
    "\n",
    "Lo podemos ubicar en el navegador de archivos. \n",
    "Cuando pasamos el comand -w y f.write() creamos el nuevo csv. \n",
    "Lo podemos abrir (porque es un formato de texto plano) directamente en vscode. \n",
    "\n",
    "Tip: extensiones clave, Rainbow CSV y CSV. "
   ]
  },
  {
   "cell_type": "code",
   "execution_count": 27,
   "metadata": {},
   "outputs": [],
   "source": [
    "#modo bash, con % \n",
    "\n",
    "%rm usuarios_ejemplo.csv\n",
    "\n",
    "#borramos el csv que se generó. "
   ]
  },
  {
   "cell_type": "markdown",
   "metadata": {},
   "source": [
    "## De CSV a listas, a diccionarios, a... \n"
   ]
  },
  {
   "cell_type": "code",
   "execution_count": null,
   "metadata": {},
   "outputs": [],
   "source": [
    "import pandas as pd\n",
    "\n",
    "\n",
    "#antes teníamos esto: \n",
    "\n",
    "# csv_data = \"\"\"ID,Nombre,Ciudad\n",
    "# 1,Ana,Madrid\n",
    "# 2,Luis,Barcelona\n",
    "# 3,Eva,Valencia\n",
    "# 4,Juan,Sevilla\"\"\"\n",
    "\n"
   ]
  },
  {
   "cell_type": "markdown",
   "metadata": {},
   "source": [
    "\n",
    "Podemos generar un archivo CSV (y luego un DataFrame) a partir de diferentes estructuras de datos en Python.\n",
    "\n",
    "El resultado final al leer el CSV será un DataFrame similar.\n",
    "\n",
    "**Opción 1: Crear CSV desde una Lista de Listas**\n"
   ]
  },
  {
   "cell_type": "code",
   "execution_count": 31,
   "metadata": {},
   "outputs": [
    {
     "name": "stdout",
     "output_type": "stream",
     "text": [
      "   ID Nombre     Ciudad\n",
      "0   1    Ana     Madrid\n",
      "1   2   Luis  Barcelona\n"
     ]
    }
   ],
   "source": [
    "# Los datos como una LISTA, donde cada elemento interno es una fila.\n",
    "data_list_of_lists = [\n",
    "    # Nota: No incluimos el encabezado aquí, lo pasamos por separado.\n",
    "    [1, 'Ana', 'Madrid'],\n",
    "    [2, 'Luis', 'Barcelona'],\n",
    "    [3, 'Eva', 'Valencia'],\n",
    "    [4, 'Juan', 'Sevilla']\n",
    "]\n",
    "# Definimos los nombres de las columnas\n",
    "column_names = ['ID', 'Nombre', 'Ciudad']\n",
    "\n",
    "# Nombre para este archivo CSV\n",
    "nombre_archivo_lista_csv = 'usuarios_desde_lista.csv'\n",
    "\n",
    "df_from_list = pd.DataFrame(data_list_of_lists, columns=column_names)\n",
    "print(df_from_list.head(2))\n",
    "\n",
    "\n",
    "\n"
   ]
  },
  {
   "cell_type": "code",
   "execution_count": null,
   "metadata": {},
   "outputs": [
    {
     "data": {
      "text/html": [
       "<div>\n",
       "<style scoped>\n",
       "    .dataframe tbody tr th:only-of-type {\n",
       "        vertical-align: middle;\n",
       "    }\n",
       "\n",
       "    .dataframe tbody tr th {\n",
       "        vertical-align: top;\n",
       "    }\n",
       "\n",
       "    .dataframe thead th {\n",
       "        text-align: right;\n",
       "    }\n",
       "</style>\n",
       "<table border=\"1\" class=\"dataframe\">\n",
       "  <thead>\n",
       "    <tr style=\"text-align: right;\">\n",
       "      <th></th>\n",
       "      <th>ID</th>\n",
       "      <th>Nombre</th>\n",
       "      <th>Ciudad</th>\n",
       "    </tr>\n",
       "  </thead>\n",
       "  <tbody>\n",
       "    <tr>\n",
       "      <th>0</th>\n",
       "      <td>1</td>\n",
       "      <td>Ana</td>\n",
       "      <td>Madrid</td>\n",
       "    </tr>\n",
       "    <tr>\n",
       "      <th>1</th>\n",
       "      <td>2</td>\n",
       "      <td>Luis</td>\n",
       "      <td>Barcelona</td>\n",
       "    </tr>\n",
       "    <tr>\n",
       "      <th>2</th>\n",
       "      <td>3</td>\n",
       "      <td>Eva</td>\n",
       "      <td>Valencia</td>\n",
       "    </tr>\n",
       "    <tr>\n",
       "      <th>3</th>\n",
       "      <td>4</td>\n",
       "      <td>Juan</td>\n",
       "      <td>Sevilla</td>\n",
       "    </tr>\n",
       "  </tbody>\n",
       "</table>\n",
       "</div>"
      ],
      "text/plain": [
       "   ID Nombre     Ciudad\n",
       "0   1    Ana     Madrid\n",
       "1   2   Luis  Barcelona\n",
       "2   3    Eva   Valencia\n",
       "3   4   Juan    Sevilla"
      ]
     },
     "execution_count": 32,
     "metadata": {},
     "output_type": "execute_result"
    }
   ],
   "source": [
    "# Ahora, guardamos este DataFrame en un archivo CSV\n",
    "# IMPORTANTE: index=False evita que Pandas escriba el índice del DataFrame como una columna en el CSV.\n",
    "\n",
    "\n",
    "# >>> notar que aparece el archivo nuevo en el navegador de archivos. \n",
    "\n",
    "df_from_list.to_csv(nombre_archivo_lista_csv, index=False, encoding='utf-8')\n",
    "\n",
    "\n",
    "\n",
    "\n",
    "# --- Leer el CSV creado ---\n",
    "df_leido_desde_lista = pd.read_csv(nombre_archivo_lista_csv)\n",
    "\n",
    "df_leido_desde_lista"
   ]
  },
  {
   "cell_type": "markdown",
   "metadata": {},
   "source": [
    "## Exploración elemental con Pandas"
   ]
  },
  {
   "cell_type": "code",
   "execution_count": 35,
   "metadata": {},
   "outputs": [
    {
     "name": "stdout",
     "output_type": "stream",
     "text": [
      "\n",
      "Contenido del DataFrame:\n"
     ]
    },
    {
     "data": {
      "text/html": [
       "<div>\n",
       "<style scoped>\n",
       "    .dataframe tbody tr th:only-of-type {\n",
       "        vertical-align: middle;\n",
       "    }\n",
       "\n",
       "    .dataframe tbody tr th {\n",
       "        vertical-align: top;\n",
       "    }\n",
       "\n",
       "    .dataframe thead th {\n",
       "        text-align: right;\n",
       "    }\n",
       "</style>\n",
       "<table border=\"1\" class=\"dataframe\">\n",
       "  <thead>\n",
       "    <tr style=\"text-align: right;\">\n",
       "      <th></th>\n",
       "      <th>ID</th>\n",
       "      <th>Nombre</th>\n",
       "      <th>Ciudad</th>\n",
       "    </tr>\n",
       "  </thead>\n",
       "  <tbody>\n",
       "    <tr>\n",
       "      <th>0</th>\n",
       "      <td>1</td>\n",
       "      <td>Ana</td>\n",
       "      <td>Madrid</td>\n",
       "    </tr>\n",
       "    <tr>\n",
       "      <th>1</th>\n",
       "      <td>2</td>\n",
       "      <td>Luis</td>\n",
       "      <td>Barcelona</td>\n",
       "    </tr>\n",
       "    <tr>\n",
       "      <th>2</th>\n",
       "      <td>3</td>\n",
       "      <td>Eva</td>\n",
       "      <td>Valencia</td>\n",
       "    </tr>\n",
       "    <tr>\n",
       "      <th>3</th>\n",
       "      <td>4</td>\n",
       "      <td>Juan</td>\n",
       "      <td>Sevilla</td>\n",
       "    </tr>\n",
       "  </tbody>\n",
       "</table>\n",
       "</div>"
      ],
      "text/plain": [
       "   ID Nombre     Ciudad\n",
       "0   1    Ana     Madrid\n",
       "1   2   Luis  Barcelona\n",
       "2   3    Eva   Valencia\n",
       "3   4   Juan    Sevilla"
      ]
     },
     "metadata": {},
     "output_type": "display_data"
    },
    {
     "name": "stdout",
     "output_type": "stream",
     "text": [
      "\n",
      "Información del DataFrame:\n",
      "<class 'pandas.core.frame.DataFrame'>\n",
      "RangeIndex: 4 entries, 0 to 3\n",
      "Data columns (total 3 columns):\n",
      " #   Column  Non-Null Count  Dtype \n",
      "---  ------  --------------  ----- \n",
      " 0   ID      4 non-null      int64 \n",
      " 1   Nombre  4 non-null      object\n",
      " 2   Ciudad  4 non-null      object\n",
      "dtypes: int64(1), object(2)\n",
      "memory usage: 228.0+ bytes\n",
      "\n",
      "Primeras 2 filas:\n"
     ]
    },
    {
     "data": {
      "text/html": [
       "<div>\n",
       "<style scoped>\n",
       "    .dataframe tbody tr th:only-of-type {\n",
       "        vertical-align: middle;\n",
       "    }\n",
       "\n",
       "    .dataframe tbody tr th {\n",
       "        vertical-align: top;\n",
       "    }\n",
       "\n",
       "    .dataframe thead th {\n",
       "        text-align: right;\n",
       "    }\n",
       "</style>\n",
       "<table border=\"1\" class=\"dataframe\">\n",
       "  <thead>\n",
       "    <tr style=\"text-align: right;\">\n",
       "      <th></th>\n",
       "      <th>ID</th>\n",
       "      <th>Nombre</th>\n",
       "      <th>Ciudad</th>\n",
       "    </tr>\n",
       "  </thead>\n",
       "  <tbody>\n",
       "    <tr>\n",
       "      <th>0</th>\n",
       "      <td>1</td>\n",
       "      <td>Ana</td>\n",
       "      <td>Madrid</td>\n",
       "    </tr>\n",
       "    <tr>\n",
       "      <th>1</th>\n",
       "      <td>2</td>\n",
       "      <td>Luis</td>\n",
       "      <td>Barcelona</td>\n",
       "    </tr>\n",
       "  </tbody>\n",
       "</table>\n",
       "</div>"
      ],
      "text/plain": [
       "   ID Nombre     Ciudad\n",
       "0   1    Ana     Madrid\n",
       "1   2   Luis  Barcelona"
      ]
     },
     "metadata": {},
     "output_type": "display_data"
    },
    {
     "name": "stdout",
     "output_type": "stream",
     "text": [
      "\n",
      "Columna 'Nombre':\n"
     ]
    },
    {
     "data": {
      "text/plain": [
       "0     Ana\n",
       "1    Luis\n",
       "2     Eva\n",
       "3    Juan\n",
       "Name: Nombre, dtype: object"
      ]
     },
     "metadata": {},
     "output_type": "display_data"
    }
   ],
   "source": [
    "# --- 4. Exploración básica del DataFrame (Estilo Notebook) ---\n",
    "\n",
    "print(\"\\nContenido del DataFrame:\")\n",
    "# En una celda de Notebook, simplemente escribir el nombre de la variable\n",
    "# al final muestra la tabla formateada. También podemos usar display().\n",
    "display(df_usuarios)\n",
    "\n",
    "print(\"\\nInformación del DataFrame:\")\n",
    "# .info() imprime directamente un resumen.\n",
    "df_usuarios.info()\n",
    "\n",
    "print(\"\\nPrimeras 2 filas:\")\n",
    "# .head() devuelve un DataFrame, que el notebook muestra bien.\n",
    "display(df_usuarios.head(2))\n",
    "\n",
    "print(\"\\nColumna 'Nombre':\")\n",
    "# Mostrar una columna (Serie)\n",
    "display(df_usuarios['Nombre'])\n",
    "\n",
    "\n",
    "\n"
   ]
  },
  {
   "cell_type": "markdown",
   "metadata": {},
   "source": [
    "El uso de una sola celda, porque lo que corrimos en las celdas de arriba se guarda, entonces no hace falta correr todo de nuevo cada vez..."
   ]
  },
  {
   "cell_type": "code",
   "execution_count": 36,
   "metadata": {},
   "outputs": [
    {
     "name": "stdout",
     "output_type": "stream",
     "text": [
      "\n",
      "Primera fila (índice 0):\n"
     ]
    },
    {
     "data": {
      "text/plain": [
       "ID             1\n",
       "Nombre       Ana\n",
       "Ciudad    Madrid\n",
       "Name: 0, dtype: object"
      ]
     },
     "metadata": {},
     "output_type": "display_data"
    }
   ],
   "source": [
    "print(\"\\nPrimera fila (índice 0):\")\n",
    "# Mostrar una fila (Serie)\n",
    "display(df_usuarios.iloc[0])"
   ]
  },
  {
   "cell_type": "markdown",
   "metadata": {},
   "source": [
    "## Crear dataset desde una Lista de Diccionarios"
   ]
  },
  {
   "cell_type": "code",
   "execution_count": null,
   "metadata": {},
   "outputs": [
    {
     "name": "stdout",
     "output_type": "stream",
     "text": [
      "DataFrame creado desde la lista de diccionarios:\n"
     ]
    },
    {
     "data": {
      "text/html": [
       "<div>\n",
       "<style scoped>\n",
       "    .dataframe tbody tr th:only-of-type {\n",
       "        vertical-align: middle;\n",
       "    }\n",
       "\n",
       "    .dataframe tbody tr th {\n",
       "        vertical-align: top;\n",
       "    }\n",
       "\n",
       "    .dataframe thead th {\n",
       "        text-align: right;\n",
       "    }\n",
       "</style>\n",
       "<table border=\"1\" class=\"dataframe\">\n",
       "  <thead>\n",
       "    <tr style=\"text-align: right;\">\n",
       "      <th></th>\n",
       "      <th>ID</th>\n",
       "      <th>Nombre</th>\n",
       "      <th>Ciudad</th>\n",
       "    </tr>\n",
       "  </thead>\n",
       "  <tbody>\n",
       "    <tr>\n",
       "      <th>0</th>\n",
       "      <td>1</td>\n",
       "      <td>Ana</td>\n",
       "      <td>Madrid</td>\n",
       "    </tr>\n",
       "    <tr>\n",
       "      <th>1</th>\n",
       "      <td>2</td>\n",
       "      <td>Luis</td>\n",
       "      <td>Barcelona</td>\n",
       "    </tr>\n",
       "    <tr>\n",
       "      <th>2</th>\n",
       "      <td>3</td>\n",
       "      <td>Eva</td>\n",
       "      <td>Valencia</td>\n",
       "    </tr>\n",
       "    <tr>\n",
       "      <th>3</th>\n",
       "      <td>4</td>\n",
       "      <td>Juan</td>\n",
       "      <td>Sevilla</td>\n",
       "    </tr>\n",
       "  </tbody>\n",
       "</table>\n",
       "</div>"
      ],
      "text/plain": [
       "   ID Nombre     Ciudad\n",
       "0   1    Ana     Madrid\n",
       "1   2   Luis  Barcelona\n",
       "2   3    Eva   Valencia\n",
       "3   4   Juan    Sevilla"
      ]
     },
     "metadata": {},
     "output_type": "display_data"
    }
   ],
   "source": [
    "\n",
    "# Los datos como una lista, donde cada diccionario es una fila.\n",
    "# Las claves del diccionario se usarán como nombres de columna.\n",
    "data_list_of_dicts = [\n",
    "    {'ID': 1, 'Nombre': 'Ana', 'Ciudad': 'Madrid'},\n",
    "    {'ID': 2, 'Nombre': 'Luis', 'Ciudad': 'Barcelona'},\n",
    "    {'ID': 3, 'Nombre': 'Eva', 'Ciudad': 'Valencia'},\n",
    "    {'ID': 4, 'Nombre': 'Juan', 'Ciudad': 'Sevilla'}\n",
    "]\n",
    "\n",
    "# Nombre para este archivo CSV\n",
    "nombre_archivo_lista_dict_csv = 'usuarios_desde_lista_dict.csv'\n",
    "\n",
    "# --- Crear DataFrame y Guardar en CSV ---\n",
    "# Pandas infiere las columnas directamente de las claves de los diccionarios.\n",
    "df_from_list_dict = pd.DataFrame(data_list_of_dicts)\n",
    "\n",
    "display(df_from_list_dict)\n",
    "\n"
   ]
  },
  {
   "cell_type": "code",
   "execution_count": 39,
   "metadata": {},
   "outputs": [
    {
     "data": {
      "text/html": [
       "<div>\n",
       "<style scoped>\n",
       "    .dataframe tbody tr th:only-of-type {\n",
       "        vertical-align: middle;\n",
       "    }\n",
       "\n",
       "    .dataframe tbody tr th {\n",
       "        vertical-align: top;\n",
       "    }\n",
       "\n",
       "    .dataframe thead th {\n",
       "        text-align: right;\n",
       "    }\n",
       "</style>\n",
       "<table border=\"1\" class=\"dataframe\">\n",
       "  <thead>\n",
       "    <tr style=\"text-align: right;\">\n",
       "      <th></th>\n",
       "      <th>ID</th>\n",
       "      <th>Nombre</th>\n",
       "      <th>Ciudad</th>\n",
       "    </tr>\n",
       "  </thead>\n",
       "  <tbody>\n",
       "    <tr>\n",
       "      <th>0</th>\n",
       "      <td>1</td>\n",
       "      <td>Ana</td>\n",
       "      <td>Madrid</td>\n",
       "    </tr>\n",
       "    <tr>\n",
       "      <th>1</th>\n",
       "      <td>2</td>\n",
       "      <td>Luis</td>\n",
       "      <td>Barcelona</td>\n",
       "    </tr>\n",
       "    <tr>\n",
       "      <th>2</th>\n",
       "      <td>3</td>\n",
       "      <td>Eva</td>\n",
       "      <td>Valencia</td>\n",
       "    </tr>\n",
       "    <tr>\n",
       "      <th>3</th>\n",
       "      <td>4</td>\n",
       "      <td>Juan</td>\n",
       "      <td>Sevilla</td>\n",
       "    </tr>\n",
       "  </tbody>\n",
       "</table>\n",
       "</div>"
      ],
      "text/plain": [
       "   ID Nombre     Ciudad\n",
       "0   1    Ana     Madrid\n",
       "1   2   Luis  Barcelona\n",
       "2   3    Eva   Valencia\n",
       "3   4   Juan    Sevilla"
      ]
     },
     "execution_count": 39,
     "metadata": {},
     "output_type": "execute_result"
    }
   ],
   "source": [
    "df_from_list_dict"
   ]
  },
  {
   "cell_type": "code",
   "execution_count": 40,
   "metadata": {},
   "outputs": [
    {
     "name": "stdout",
     "output_type": "stream",
     "text": [
      "   ID Nombre     Ciudad\n",
      "0   1    Ana     Madrid\n",
      "1   2   Luis  Barcelona\n",
      "2   3    Eva   Valencia\n",
      "3   4   Juan    Sevilla\n"
     ]
    }
   ],
   "source": [
    "print(df_from_list)"
   ]
  },
  {
   "cell_type": "markdown",
   "metadata": {},
   "source": [
    "## Crear dataset desde un Diccionario de Listas (Estructura Semi-Tabular)"
   ]
  },
  {
   "cell_type": "code",
   "execution_count": 41,
   "metadata": {},
   "outputs": [
    {
     "name": "stdout",
     "output_type": "stream",
     "text": [
      "DataFrame creado desde el diccionario de listas:\n"
     ]
    },
    {
     "data": {
      "text/html": [
       "<div>\n",
       "<style scoped>\n",
       "    .dataframe tbody tr th:only-of-type {\n",
       "        vertical-align: middle;\n",
       "    }\n",
       "\n",
       "    .dataframe tbody tr th {\n",
       "        vertical-align: top;\n",
       "    }\n",
       "\n",
       "    .dataframe thead th {\n",
       "        text-align: right;\n",
       "    }\n",
       "</style>\n",
       "<table border=\"1\" class=\"dataframe\">\n",
       "  <thead>\n",
       "    <tr style=\"text-align: right;\">\n",
       "      <th></th>\n",
       "      <th>ID</th>\n",
       "      <th>Nombre</th>\n",
       "      <th>Ciudad</th>\n",
       "    </tr>\n",
       "  </thead>\n",
       "  <tbody>\n",
       "    <tr>\n",
       "      <th>0</th>\n",
       "      <td>1</td>\n",
       "      <td>Ana</td>\n",
       "      <td>Madrid</td>\n",
       "    </tr>\n",
       "    <tr>\n",
       "      <th>1</th>\n",
       "      <td>2</td>\n",
       "      <td>Luis</td>\n",
       "      <td>Barcelona</td>\n",
       "    </tr>\n",
       "    <tr>\n",
       "      <th>2</th>\n",
       "      <td>3</td>\n",
       "      <td>Eva</td>\n",
       "      <td>Valencia</td>\n",
       "    </tr>\n",
       "    <tr>\n",
       "      <th>3</th>\n",
       "      <td>4</td>\n",
       "      <td>Juan</td>\n",
       "      <td>Sevilla</td>\n",
       "    </tr>\n",
       "  </tbody>\n",
       "</table>\n",
       "</div>"
      ],
      "text/plain": [
       "   ID Nombre     Ciudad\n",
       "0   1    Ana     Madrid\n",
       "1   2   Luis  Barcelona\n",
       "2   3    Eva   Valencia\n",
       "3   4   Juan    Sevilla"
      ]
     },
     "metadata": {},
     "output_type": "display_data"
    }
   ],
   "source": [
    "# Los datos donde las claves son los nombres de columna y los valores son listas con los datos de esa columna.\n",
    "data_dict_of_lists = {\n",
    "    'ID': [1, 2, 3, 4],\n",
    "    'Nombre': ['Ana', 'Luis', 'Eva', 'Juan'],\n",
    "    'Ciudad': ['Madrid', 'Barcelona', 'Valencia', 'Sevilla']\n",
    "}\n",
    "\n",
    "#ID,Nombre,Ciudad\n",
    "#1,Ana,Madrid\n",
    "#2,Luis,Barcelona\n",
    "#3,Eva,Valencia\n",
    "#4,Juan,Sevilla\n",
    "\n",
    "# Nombre para este archivo CSV\n",
    "nombre_archivo_dict_lista_csv = 'usuarios_desde_dict_lista.csv'\n",
    "\n",
    "# --- Crear DataFrame y Guardar en CSV ---\n",
    "# Pandas interpreta directamente las claves como columnas y las listas como sus valores.\n",
    "df_from_dict_list = pd.DataFrame(data_dict_of_lists)\n",
    "\n",
    "print(\"DataFrame creado desde el diccionario de listas:\")\n",
    "display(df_from_dict_list)\n",
    "\n",
    "\n"
   ]
  },
  {
   "cell_type": "markdown",
   "metadata": {},
   "source": [
    "## Síntesis\n",
    "\n",
    "- Podemos cargar datos existentes en texto plano, y transformarlos en un dataset pandas (Pandas DataFrame, df)\n",
    "- Los datos pueden ser preexistentes, o sea, el csv ya existe\n",
    "- O podemos crearlos directamente en el código, como hicimos en los ejemplos\n",
    "\n",
    "**Además**\n",
    "\n",
    "- Hay diferentes estructuras de datos típicas \n",
    "- (0) La tabular (csv, tsv) en texto plano es una de las más frecuentes\n",
    "- Dentro de python podemos encontrar otras formas de estructurar los datos y luego *traducirlos* a pandas. \n",
    "- (1) Listas \n",
    "- (2) Diccionarios\n",
    "- (3) Diccionarios de Listas\n",
    "    - Vimos la forma que tiene un set de datos idénticos en estas formas de estructurarlos. \n",
    "\n",
    "\n",
    "\n",
    "\n"
   ]
  },
  {
   "cell_type": "code",
   "execution_count": 42,
   "metadata": {},
   "outputs": [],
   "source": [
    "#Tabulares:\n",
    "data_csv = \"\"\"ID,Nombre,Ciudad\n",
    "1,Ana,Madrid\n",
    "2,Luis,Barcelona\n",
    "3,Eva,Valencia\n",
    "4,Juan,Sevilla\"\"\"\n",
    "\n",
    "#Listas: \n",
    "data_list_of_lists = [\n",
    "    [1, 'Ana', 'Madrid'],\n",
    "    [2, 'Luis', 'Barcelona'],\n",
    "    [3, 'Eva', 'Valencia'],\n",
    "    [4, 'Juan', 'Sevilla']\n",
    "]\n",
    "column_names = ['ID', 'Nombre', 'Ciudad']\n",
    "\n",
    "#Diccionarios: \n",
    "data_list_of_dicts = [\n",
    "    {'ID': 1, 'Nombre': 'Ana', 'Ciudad': 'Madrid'},\n",
    "    {'ID': 2, 'Nombre': 'Luis', 'Ciudad': 'Barcelona'},\n",
    "    {'ID': 3, 'Nombre': 'Eva', 'Ciudad': 'Valencia'},\n",
    "    {'ID': 4, 'Nombre': 'Juan', 'Ciudad': 'Sevilla'}\n",
    "]\n",
    "\n",
    "#Diccionario de Listas: \n",
    "data_dict_of_lists = {\n",
    "    'ID': [1, 2, 3, 4],\n",
    "    'Nombre': ['Ana', 'Luis', 'Eva', 'Juan'],\n",
    "    'Ciudad': ['Madrid', 'Barcelona', 'Valencia', 'Sevilla']\n",
    "}\n"
   ]
  },
  {
   "cell_type": "markdown",
   "metadata": {},
   "source": [
    "---\n"
   ]
  },
  {
   "cell_type": "markdown",
   "metadata": {},
   "source": [
    "## Formatos de datos comunes \n",
    "\n",
    "![tabla](aux/binarios.png)\n",
    "\n",
    "\n",
    "\n",
    "Observaciones: los binarios requieren instalación e importación de librerías externas. \n",
    "\n",
    "\t•\tTextos planos se pueden inspeccionar directamente y son editables con cualquier editor.\n",
    "\t•\tBinarios requieren herramientas específicas, y su contenido no es interpretable sin decodificación.\n",
    "\t•\tExcel .xlsx es técnicamente un archivo ZIP con múltiples archivos XML internos. No es binario puro, pero sí ilegible como texto.\n",
    "\t•\tPickle (.pkl) y Parquet son los más interesantes: pkl guarda estructuras internas de Python directamente (listas, dicts, modelos, etc.), y parquet es un formato optimizado para big data. \n"
   ]
  },
  {
   "cell_type": "markdown",
   "metadata": {},
   "source": [
    "---\n",
    "\n",
    "## JSON - Diccionarios Anidados, Estructuras Jerárquicas\n",
    "\n",
    "Los diccionarios pueden contener otros diccionarios (o listas) como valores. Esto crea estructuras anidadas o jerárquicas. La forma común de usarlas es en formato JSON.\n",
    "\n",
    "Para acceder a elementos dentro de estructuras anidadas, encadenamos el acceso por clave."
   ]
  },
  {
   "cell_type": "markdown",
   "metadata": {},
   "source": [
    "\n",
    "Los diccionarios en Python pueden contener otros diccionarios o listas como valores. Esto nos permite crear **estructuras de datos anidadas o jerárquicas**. Este tipo de estructura es fundamental para entender y trabajar con un formato de intercambio de datos muy popular: **JSON**.\n",
    "\n",
    "### ¿Qué es JSON?\n",
    "\n",
    "**JSON** son las siglas de **J**ava**S**cript **O**bject **N**otation. Es un formato **ligero** de intercambio de datos, basado en **texto**, que resulta fácil de leer y escribir para los humanos, y fácil de interpretar y generar para las máquinas. Aunque deriva de la sintaxis de los objetos de JavaScript, es un formato **independiente del lenguaje** y es comúnmente utilizado en la web para transmitir datos entre un servidor y un cliente (por ejemplo, en APIs web).\n",
    "\n",
    "### Estructura de un JSON\n",
    "\n",
    "Un JSON se basa en dos estructuras principales:\n",
    "\n",
    "1.  **Objetos**: Representan una colección de pares **clave-valor**.\n",
    "    *   Comienzan con `{` y terminan con `}`.\n",
    "    *   Las claves *deben* ser cadenas de texto (entre comillas dobles `\"`).\n",
    "    *   Los valores pueden ser: cadenas de texto (`\"`), números (`123`, `3.14`), booleanos (`true`, `false`), `null`, otro objeto JSON (`{...}`) o un array JSON (`[...]`).\n",
    "    *   Los pares clave-valor se separan por comas `,`.\n",
    "    *   Ejemplo de objeto: `{\"nombre\": \"Ana\", \"edad\": 30, \"ciudad\": \"Madrid\"}`\n",
    "\n",
    "2.  **Arrays (Listas)**: Representan una lista ordenada de valores.\n",
    "    *   Comienzan con `[` y terminan con `]`.\n",
    "    *   Los valores se separan por comas `,`.\n",
    "    *   Los valores pueden ser de cualquier tipo permitido en JSON (cadenas, números, booleanos, `null`, objetos, otros arrays).\n",
    "    *   Ejemplo de array: `[\"manzana\", \"banana\", \"cereza\"]`\n",
    "\n",
    "La potencia de JSON radica en que estas estructuras se pueden **anidar**, permitiendo representar datos complejos y jerárquicos.\n",
    "\n",
    "**Ejemplo de JSON Anidado:**\n",
    "\n",
    "```json\n",
    "{\n",
    "  \"id_pedido\": \"P12345\",\n",
    "  \"cliente\": {\n",
    "    \"nombre\": \"Carlos\",\n",
    "    \"email\": \"carlos@ejemplo.com\",\n",
    "    \"activo\": true\n",
    "  },\n",
    "  \"productos\": [\n",
    "    {\n",
    "      \"id_producto\": \"A001\",\n",
    "      \"nombre\": \"Teclado Mecánico\",\n",
    "      \"cantidad\": 1,\n",
    "      \"precio_unitario\": 75.99\n",
    "    },\n",
    "    {\n",
    "      \"id_producto\": \"B002\",\n",
    "      \"nombre\": \"Mouse Óptico\",\n",
    "      \"cantidad\": 1,\n",
    "      \"precio_unitario\": 25.50\n",
    "    }\n",
    "  ],\n",
    "  \"total\": 101.49,\n",
    "  \"direccion_envio\": null\n",
    "}\n"
   ]
  },
  {
   "cell_type": "code",
   "execution_count": 44,
   "metadata": {},
   "outputs": [
    {
     "name": "stdout",
     "output_type": "stream",
     "text": [
      "Diccionario anidado (usuario):\n",
      "{\n",
      "  \"id\": 1001,\n",
      "  \"nombre\": \"Valentina\",\n",
      "  \"ubicacion\": {\n",
      "    \"ciudad\": \"Ushuaia\",\n",
      "    \"provincia\": \"Tierra del Fuego\"\n",
      "  },\n",
      "  \"preferencias\": {\n",
      "    \"idioma\": \"es\",\n",
      "    \"notificaciones\": true\n",
      "  }\n",
      "}\n",
      "\n",
      "Ciudad del usuario: Ushuaia\n",
      "Tipo del campo 'ubicacion': <class 'dict'>\n"
     ]
    }
   ],
   "source": [
    "import json\n",
    "# Diccionario anidado simulando datos de usuario en formato JSON\n",
    "usuario_json_ejemplo = {\n",
    "    \"id\": 1001,\n",
    "    \"nombre\": \"Valentina\",\n",
    "    \"ubicacion\": {             # Valor es otro diccionario\n",
    "        \"ciudad\": \"Ushuaia\",\n",
    "        \"provincia\": \"Tierra del Fuego\"\n",
    "    },\n",
    "    \"preferencias\": {          # Valor es otro diccionario\n",
    "        \"idioma\": \"es\",\n",
    "        \"notificaciones\": True\n",
    "    }\n",
    "}\n",
    "print(f\"Diccionario anidado (usuario):\\n{json.dumps(usuario_json_ejemplo, indent=2)}\") # Usamos json.dumps para imprimirlo bonito\n",
    "\n",
    "# Tarea: Acceder al nombre de la ciudad y verificar el tipo de 'ubicacion'\n",
    "# Acceso encadenado: primero 'ubicacion', luego 'ciudad'\n",
    "ciudad_usuario = usuario_json_ejemplo['ubicacion']['ciudad']\n",
    "print(f\"\\nCiudad del usuario: {ciudad_usuario}\")\n",
    "\n",
    "# Verificar el tipo del valor asociado a la clave 'ubicacion'\n",
    "tipo_ubicacion = type(usuario_json_ejemplo['ubicacion'])\n",
    "print(f\"Tipo del campo 'ubicacion': {tipo_ubicacion}\") # Esperamos <class 'dict'>"
   ]
  },
  {
   "cell_type": "markdown",
   "metadata": {},
   "source": [
    "**Relevancia:** Muchos sistemas (especialmente APIs web) devuelven datos en formato JSON con estructuras anidadas. Necesitamos saber cómo navegar y extraer la información relevante de ellas, a menudo para \"aplanarlas\" y convertirlas en tablas."
   ]
  },
  {
   "cell_type": "markdown",
   "metadata": {},
   "source": [
    "## Actividad 6: Conversión entre Estructuras Python y JSON\n",
    "\n",
    "JSON es un formato estándar de texto para el intercambio de datos. Es muy similar a las listas y diccionarios de Python.\n",
    "\n",
    "La librería `json` de Python nos permite:\n",
    "*   `json.dumps()`: Convertir un objeto Python (como un `dict` o `list`) en una **cadena de texto** con formato JSON. `dumps` significa \"dump string\". El argumento `indent` ayuda a que la salida sea legible por humanos.\n",
    "*   `json.loads()`: Convertir una **cadena de texto** que contiene JSON válido en el objeto Python correspondiente (`dict` o `list`). `loads` significa \"load string\"."
   ]
  },
  {
   "cell_type": "code",
   "execution_count": null,
   "metadata": {},
   "outputs": [
    {
     "name": "stdout",
     "output_type": "stream",
     "text": [
      "\u001b[31mERROR: Could not find a version that satisfies the requirement json (from versions: none)\u001b[0m\u001b[31m\n",
      "\u001b[0m\u001b[31mERROR: No matching distribution found for json\u001b[0m\u001b[31m\n",
      "\u001b[0mNote: you may need to restart the kernel to use updated packages.\n",
      "Diccionario Python convertido a JSON string (cadena_json_generada):\n",
      "{\n",
      "  \"id\": 1001,\n",
      "  \"nombre\": \"Valentina\",\n",
      "  \"ubicacion\": {\n",
      "    \"ciudad\": \"Ushuaia\",\n",
      "    \"provincia\": \"Tierra del Fuego\"\n",
      "  },\n",
      "  \"preferencias\": {\n",
      "    \"idioma\": \"es\",\n",
      "    \"notificaciones\": true\n",
      "  }\n",
      "}\n",
      "Tipo de cadena_json_generada: <class 'str'>\n",
      "\n",
      "String JSON a leer (cadena_json_mal): {\"nombre\": \"Lucas\", \"edad\": 30, \"email\": \"lucas@gmail.com\"}\n",
      "Tipo de cadena_json_mal: <class 'str'>\n",
      "\n",
      "Diccionario Python recuperado desde JSON (usuario_dict_leido):\n",
      "{'nombre': 'Lucas', 'edad': 30, 'email': 'lucas@gmail.com'}\n",
      "Tipo de usuario_dict_leido: <class 'dict'>\n",
      "Email del usuario recuperado: lucas@gmail.com\n"
     ]
    }
   ],
   "source": [
    "import json \n",
    "\n",
    "\n",
    "# 1. Convertir el diccionario 'usuario_json_ejemplo' a una cadena JSON\n",
    "cadena_json_generada = json.dumps(usuario_json_ejemplo, indent=2) # indent=2 para formato legible\n",
    "print(\"Diccionario Python convertido a JSON string (cadena_json_generada):\")\n",
    "print(cadena_json_generada)\n",
    "print(f\"Tipo de cadena_json_generada: {type(cadena_json_generada)}\") # Es un string!\n",
    "\n",
    "# 2. Leer una cadena JSON y convertirla en un diccionario Python\n",
    "cadena_json_mal = '{\"nombre\": \"Lucas\", \"edad\": 30, \"email\": \"lucas@gmail.com\"}' # JSON como string\n",
    "print(f\"\\nString JSON a leer (cadena_json_mal): {cadena_json_mal}\")\n",
    "print(f\"Tipo de cadena_json_mal: {type(cadena_json_mal)}\") # Es un string!\n",
    "\n",
    "usuario_dict_leido = json.loads(cadena_json_mal)\n",
    "print(f\"\\nDiccionario Python recuperado desde JSON (usuario_dict_leido):\")\n",
    "print(usuario_dict_leido)\n",
    "print(f\"Tipo de usuario_dict_leido: {type(usuario_dict_leido)}\") # Ahora es un dict!\n",
    "\n",
    "# Ahora podemos acceder a sus elementos como un diccionario normal\n",
    "print(f\"Email del usuario recuperado: {usuario_dict_leido['email']}\")"
   ]
  },
  {
   "cell_type": "markdown",
   "metadata": {},
   "source": [
    "**Caso de Uso:** Es fundamental al interactuar con APIs web (enviar/recibir datos), guardar configuraciones o almacenar datos semi-estructurados en archivos."
   ]
  },
  {
   "cell_type": "markdown",
   "metadata": {},
   "source": [
    "## Nota sobre variables: Tipos de Variables Lógicos vs. Estadísticos\n",
    "\n",
    "Es importante distinguir entre el **tipo de dato lógico** que Python asigna a una variable (ej: `int`, `str`, `bool`) y la **interpretación estadística** de esa variable en el contexto del análisis de datos.\n",
    "\n",
    "Tipos Estadísticos Comunes:\n",
    "*   **Numérica:** Representa cantidades medibles.\n",
    "    *   **Continua:** Puede tomar cualquier valor dentro de un rango (ej: ingresos, altura). A menudo representadas por `float`.\n",
    "    *   **Discreta:** Solo puede tomar valores específicos, a menudo enteros (ej: número de hijos, cantidad de productos). A menudo representadas por `int`.\n",
    "*   **Categórica:** Representa grupos o categorías.\n",
    "    *   **Nominal:** Categorías sin un orden inherente (ej: sexo, país, color). A menudo representadas por `str`.\n",
    "    *   **Ordinal:** Categorías con un orden o jerarquía significativa (ej: nivel de satisfacción 'bajo', 'medio', 'alto'; nivel educativo). Pueden representarse por `int` o `str`, pero el orden es clave.\n",
    "    *   **Dicotómica/Booleana:** Solo dos categorías posibles (ej: sí/no, activo/inactivo, presente/ausente). A menudo representadas por `bool` (`True`/`False`) o `int` (0/1).\n",
    "\n",
    "**¿Por qué importa?** El tipo estadístico determina qué análisis y visualizaciones son apropiados (ej: no tiene sentido calcular la media de una variable nominal como 'país'). Python no siempre infiere el tipo estadístico correcto; a veces requiere nuestra interpretación."
   ]
  },
  {
   "cell_type": "code",
   "execution_count": null,
   "metadata": {},
   "outputs": [],
   "source": [
    "# Diccionario con ejemplos de variables\n",
    "variables_tipos = {\n",
    "    \"edad\": 27,               # Tipo lógico: int. Tipo estadístico: Numérica (Discreta o Continua según contexto)\n",
    "    \"sexo\": \"F\",              # Tipo lógico: str. Tipo estadístico: Categórica Nominal\n",
    "    \"satisfaccion\": 4,        # Tipo lógico: int. Tipo estadístico: Categórica Ordinal (asumiendo escala 1-5)\n",
    "    \"recibe_beneficio\": True, # Tipo lógico: bool. Tipo estadístico: Categórica Dicotómica\n",
    "    \"ingreso_mensual\": 55000.50 # Tipo lógico: float. Tipo estadístico: Numérica Continua\n",
    "}\n",
    "\n",
    "print(\"Análisis de Tipos Lógicos (Python) y Estadísticos (Interpretación):\")\n",
    "for clave, valor in variables_tipos.items():\n",
    "    tipo_logico = type(valor)\n",
    "    tipo_estadistico = \"Desconocido\"\n",
    "    \n",
    "    # Intentamos inferir el tipo estadístico basado en el tipo lógico y el nombre (heurística simple)\n",
    "    if isinstance(valor, bool):\n",
    "        tipo_estadistico = \"Categórica (Dicotómica/Booleana)\"\n",
    "    elif isinstance(valor, (int, float)):\n",
    "        if clave == \"satisfaccion\": # Caso especial basado en el nombre\n",
    "             tipo_estadistico = \"Categórica (Ordinal)\"\n",
    "        elif isinstance(valor, int):\n",
    "             tipo_estadistico = \"Numérica (Discreta)\" # Podría ser continua si representa algo medido\n",
    "        else: # float\n",
    "             tipo_estadistico = \"Numérica (Continua)\"\n",
    "    elif isinstance(valor, str):\n",
    "        # Podría ser nominal u ordinal, asumimos nominal por defecto\n",
    "        tipo_estadistico = \"Categórica (Nominal)\"\n",
    "\n",
    "    print(f\"- Variable '{clave}': Valor={valor}, Tipo Lógico={tipo_logico}, Tipo Estadístico (inferido)={tipo_estadistico}\")"
   ]
  },
  {
   "cell_type": "markdown",
   "metadata": {},
   "source": [
    "**Conclusión:** La inferencia automática tiene límites. La variable `edad` (int) podría ser discreta (años cumplidos) o una aproximación de una continua. La variable `satisfaccion` (int) es claramente ordinal, pero lo sabemos por el *significado* del nombre, no solo por ser `int`. El tipo estadístico correcto a menudo requiere conocimiento del dominio."
   ]
  },
  {
   "cell_type": "markdown",
   "metadata": {},
   "source": [
    "**Importancia:** Ser capaz de reconocer y convertir entre estos formatos es esencial. Pandas es excelente para leer datos desde la mayoría de estas estructuras (y más, como archivos Excel, bases de datos, etc.) y unificarlos en un DataFrame."
   ]
  },
  {
   "cell_type": "markdown",
   "metadata": {},
   "source": [
    "## Introducción a Pandas: El DataFrame\n",
    "\n",
    "Pandas introduce el `DataFrame`, una estructura de datos tabular bidimensional, similar a una hoja de cálculo o una tabla SQL. Tiene filas y columnas con etiquetas (índices para filas, nombres para columnas).\n",
    "\n",
    "Podemos crear un DataFrame fácilmente a partir de las estructuras que vimos, como una lista de diccionarios."
   ]
  },
  {
   "cell_type": "code",
   "execution_count": null,
   "metadata": {},
   "outputs": [],
   "source": [
    "# Crear el DataFrame a partir de la lista de diccionarios 'personas'\n",
    "df_personas = pd.DataFrame(personas)\n",
    "\n",
    "print(\"DataFrame inicial creado desde la lista de diccionarios:\")\n",
    "print(df_personas)"
   ]
  },
  {
   "cell_type": "markdown",
   "metadata": {},
   "source": [
    "**Observa:** Pandas ha organizado los datos en una tabla. Las claves de los diccionarios se convirtieron en nombres de columna. Los valores faltantes (`None`) y los tipos inconsistentes (como la edad de Juan) se mantienen por ahora. La columna de la izquierda (0, 1, 2, 3) es el **índice** por defecto que Pandas asigna a las filas."
   ]
  },
  {
   "cell_type": "markdown",
   "metadata": {},
   "source": [
    "## Manipulación Básica del DataFrame: Añadir Filas y Columnas\n",
    "\n",
    "Una vez que tenemos un DataFrame, podemos modificarlo.\n",
    "\n",
    "*   **Añadir Fila:** Se usa `pd.concat()`. Necesitamos convertir la nueva fila (usualmente un diccionario) en un pequeño DataFrame de una fila antes de concatenarlo. `ignore_index=True` re-genera el índice para que sea secuencial.\n",
    "*   **Añadir Columna:** Es más directo. Simplemente asignamos una lista (o Serie de Pandas) a un nuevo nombre de columna `df['nueva_columna'] = ...`. La lista debe tener la misma longitud que el número de filas del DataFrame."
   ]
  },
  {
   "cell_type": "code",
   "execution_count": null,
   "metadata": {},
   "outputs": [],
   "source": [
    "# Caso 1 – Añadir una nueva fila\n",
    "nueva_persona = {\"nombre\": \"Santiago\", \"edad\": 35, \"sexo\": \"M\"}\n",
    "# Convertimos el dict en un DataFrame de una fila y concatenamos\n",
    "df_personas = pd.concat([df_personas, pd.DataFrame([nueva_persona])], ignore_index=True)\n",
    "print(\"\\nDataFrame después de agregar la fila de Santiago:\")\n",
    "print(df_personas)\n",
    "\n",
    "# Caso 2 – Añadir una nueva columna 'ocupacion'\n",
    "# La lista debe tener tantos elementos como filas tenga el DataFrame (ahora 5)\n",
    "ocupaciones = [\"docente\", \"ingeniero\", \"enfermera\", \"administrativo\", \"abogado\"]\n",
    "df_personas[\"ocupacion\"] = ocupaciones\n",
    "print(\"\\nDataFrame después de agregar la columna 'ocupacion':\")\n",
    "print(df_personas)"
   ]
  },
  {
   "cell_type": "markdown",
   "metadata": {},
   "source": [
    "## Conversión DataFrame <-> JSON\n",
    "\n",
    "Así como creamos un DataFrame desde estructuras Python, también podemos convertirlo de vuelta, por ejemplo, a formato JSON.\n",
    "\n",
    "1.  Convertir el DataFrame a una **lista de diccionarios**: Usamos el método `.to_dict(orient='records')`. Cada diccionario en la lista representará una fila.\n",
    "2.  Convertir esa lista de diccionarios a una **cadena JSON**: Usamos `json.dumps()` como antes."
   ]
  },
  {
   "cell_type": "code",
   "execution_count": null,
   "metadata": {},
   "outputs": [],
   "source": [
    "# 1. Convertir el DataFrame a lista de diccionarios\n",
    "datos_dict_desde_df = df_personas.to_dict(orient=\"records\")\n",
    "print(f\"\\nDataFrame convertido a lista de diccionarios:\\n{datos_dict_desde_df}\")\n",
    "\n",
    "# 2. Convertir la lista de diccionarios a una cadena JSON\n",
    "json_str_desde_df = json.dumps(datos_dict_desde_df, indent=2)\n",
    "print(\"\\nLista de diccionarios convertida a JSON string:\")\n",
    "print(json_str_desde_df)\n",
    "\n",
    "# Podemos verificar que podemos cargarla de nuevo\n",
    "datos_recuperados_desde_json = json.loads(json_str_desde_df)\n",
    "print(f\"\\nDatos recuperados desde JSON string (primer elemento): {datos_recuperados_desde_json[0]}\")"
   ]
  },
  {
   "cell_type": "markdown",
   "metadata": {},
   "source": [
    "**Fin del Bloque 1.** Hemos cubierto las estructuras de datos básicas de Python relevantes para datos, cómo se relacionan con JSON y cómo dar los primeros pasos con Pandas DataFrames, incluyendo su creación y manipulación elemental."
   ]
  },
  {
   "cell_type": "markdown",
   "metadata": {},
   "source": [
    "# BLOQUE 2 – DATOS ESTRUCTURADOS (Integrando MD Bloque 2)"
   ]
  },
  {
   "cell_type": "markdown",
   "metadata": {},
   "source": [
    "## Actividad 1: Crear DataFrame desde estructura explícita (desde MD y original)"
   ]
  },
  {
   "cell_type": "code",
   "execution_count": null,
   "metadata": {},
   "outputs": [],
   "source": [
    "# Generación sintética de estructura tabular con datos homogéneos\n",
    "clientes = [\n",
    "    {\"id\": 1, \"nombre\": \"Ana\", \"edad\": 31, \"pais\": \"Argentina\"},\n",
    "    {\"id\": 2, \"nombre\": \"Luis\", \"edad\": 28, \"pais\": \"Chile\"},\n",
    "    {\"id\": 3, \"nombre\": \"Carla\", \"edad\": 42, \"pais\": \"Uruguay\"},\n",
    "    {\"id\": 4, \"nombre\": \"Juan\", \"edad\": 36, \"pais\": \"Brasil\"}\n",
    "]\n",
    "df_clientes = pd.DataFrame(clientes)\n",
    "print(\"DataFrame 'df_clientes':\")\n",
    "print(df_clientes)"
   ]
  },
  {
   "cell_type": "markdown",
   "metadata": {},
   "source": [
    "## Actividad 2: Acceso por columnas y por filas (desde MD)"
   ]
  },
  {
   "cell_type": "code",
   "execution_count": null,
   "metadata": {},
   "outputs": [],
   "source": [
    "# Acceder a una sola columna -> devuelve una Serie\n",
    "print(\"\\nColumna 'nombre':\")\n",
    "print(df_clientes[\"nombre\"])\n",
    "\n",
    "# Acceder a múltiples columnas -> devuelve un DataFrame\n",
    "print(\"\\nColumnas 'nombre' y 'edad':\")\n",
    "print(df_clientes[[\"nombre\", \"edad\"]])\n",
    "\n",
    "# Acceder por posición de fila (iloc)\n",
    "print(f\"\\nFila en posición 0 (iloc[0]):\\n{df_clientes.iloc[0]}\")\n",
    "\n",
    "# Acceder por condición (filtrado booleano)\n",
    "print(\"\\nClientes con edad > 30:\")\n",
    "print(df_clientes[df_clientes[\"edad\"] > 30])"
   ]
  },
  {
   "cell_type": "markdown",
   "metadata": {},
   "source": [
    "## Actividad 3: Información estructural básica (desde MD)"
   ]
  },
  {
   "cell_type": "code",
   "execution_count": null,
   "metadata": {},
   "outputs": [],
   "source": [
    "# Ver las dimensiones (filas, columnas)\n",
    "print(f\"\\nDimensiones (shape): {df_clientes.shape}\")\n",
    "\n",
    "# Ver los tipos de datos por columna\n",
    "print(\"\\nTipos de datos (dtypes):\")\n",
    "print(df_clientes.dtypes)\n",
    "\n",
    "# Ver el resumen general (índice, columnas, no-nulos, dtypes, memoria)\n",
    "print(\"\\nResumen general (info):\")\n",
    "df_clientes.info()\n",
    "\n",
    "# Estadísticas descriptivas básicas (sólo para columnas numéricas por defecto)\n",
    "print(\"\\nEstadísticas descriptivas (describe):\")\n",
    "print(df_clientes.describe())"
   ]
  },
  {
   "cell_type": "markdown",
   "metadata": {},
   "source": [
    "## Actividad 4: Crear DataFrame desde listas paralelas (desde MD)"
   ]
  },
  {
   "cell_type": "code",
   "execution_count": null,
   "metadata": {},
   "outputs": [],
   "source": [
    "# Estructura alternativa: diccionario de listas\n",
    "nombres_alt = [\"Lucía\", \"Pedro\", \"Sol\", \"Mario\"]\n",
    "edades_alt = [24, 39, 27, 45]\n",
    "paises_alt = [\"Bolivia\", \"Paraguay\", \"Perú\", \"Ecuador\"]\n",
    "\n",
    "df_alternativo = pd.DataFrame({\n",
    "    \"nombre\": nombres_alt,\n",
    "    \"edad\": edades_alt,\n",
    "    \"pais\": paises_alt\n",
    "})\n",
    "print(\"DataFrame 'df_alternativo':\")\n",
    "print(df_alternativo)"
   ]
  },
  {
   "cell_type": "markdown",
   "metadata": {},
   "source": [
    "## Actividad 5: Agregar columna nueva a partir de reglas simples (desde MD)"
   ]
  },
  {
   "cell_type": "code",
   "execution_count": null,
   "metadata": {},
   "outputs": [],
   "source": [
    "# Agregar columna booleana que indica si edad > 30\n",
    "df_alternativo[\"mayor_30\"] = df_alternativo[\"edad\"] > 30\n",
    "print(\"DataFrame con columna 'mayor_30':\")\n",
    "print(df_alternativo)"
   ]
  },
  {
   "cell_type": "markdown",
   "metadata": {},
   "source": [
    "## Actividad 6: Agregar columna calculada (desde MD)"
   ]
  },
  {
   "cell_type": "code",
   "execution_count": null,
   "metadata": {},
   "outputs": [],
   "source": [
    "# Supongamos que queremos una columna con doble edad\n",
    "df_alternativo[\"edad_doble\"] = df_alternativo[\"edad\"] * 2\n",
    "print(\"DataFrame con columna 'edad_doble':\")\n",
    "print(df_alternativo)"
   ]
  },
  {
   "cell_type": "markdown",
   "metadata": {},
   "source": [
    "## Actividad 7: Fila faltante: agregar nuevo registro sintético (desde MD y original)"
   ]
  },
  {
   "cell_type": "code",
   "execution_count": null,
   "metadata": {},
   "outputs": [],
   "source": [
    "# Agregar nuevo cliente (similar al original, adaptado a df_alternativo)\n",
    "nuevo_cliente_alt = {\"nombre\": \"Nora\", \"edad\": 33, \"pais\": \"Colombia\", \"mayor_30\": True, \"edad_doble\": 66}\n",
    "df_alternativo = pd.concat([df_alternativo, pd.DataFrame([nuevo_cliente_alt])], ignore_index=True)\n",
    "print(\"DataFrame después de agregar a Nora:\")\n",
    "print(df_alternativo)"
   ]
  },
  {
   "cell_type": "markdown",
   "metadata": {},
   "source": [
    "## Actividad 8: Columna faltante: agregar columna con None o constante (desde MD y original)"
   ]
  },
  {
   "cell_type": "code",
   "execution_count": null,
   "metadata": {},
   "outputs": [],
   "source": [
    "# Columna sin valores aún (por ejemplo, ocupación futura)\n",
    "df_alternativo[\"ocupacion\"] = None # Se llena con None (que pandas maneja como NaN para objetos, o pd.NA)\n",
    "print(\"DataFrame con columna 'ocupacion' inicializada a None:\")\n",
    "print(df_alternativo)\n",
    "\n",
    "# Luego asignar valores de forma manual usando .loc[indice_fila, nombre_columna]\n",
    "df_alternativo.loc[0, \"ocupacion\"] = \"profesora\"\n",
    "df_alternativo.loc[1, \"ocupacion\"] = \"ingeniero\"\n",
    "# Los demás quedan como None/NaN\n",
    "print(\"\\nDataFrame con algunos valores asignados en 'ocupacion':\")\n",
    "print(df_alternativo)\n",
    "\n",
    "# Ejemplo de agregar columna con valor constante (desde agregar_columnas_y_filas.py)\n",
    "df_alternativo[\"continente\"] = \"América del Sur\" # Se asigna a todas las filas\n",
    "print(\"\\nDataFrame con columna 'continente' constante:\")\n",
    "print(df_alternativo)"
   ]
  },
  {
   "cell_type": "markdown",
   "metadata": {},
   "source": [
    "## Actividad 9: Guardar y leer CSV interno (sin archivos externos) (desde MD)"
   ]
  },
  {
   "cell_type": "code",
   "execution_count": null,
   "metadata": {},
   "outputs": [],
   "source": [
    "# Guardar como string simulado de CSV\n",
    "csv_simulado = df_alternativo.to_csv(index=False) # index=False para no guardar el índice del DF\n",
    "print(\"DataFrame convertido a string CSV:\")\n",
    "print(csv_simulado)\n",
    "\n",
    "# Leer desde string (simulando una carga desde archivo)\n",
    "# Usamos StringIO para tratar el string como si fuera un archivo\n",
    "df_desde_csv = pd.read_csv(StringIO(csv_simulado))\n",
    "print(\"\\nDataFrame leído desde el string CSV:\")\n",
    "print(df_desde_csv)"
   ]
  },
  {
   "cell_type": "markdown",
   "metadata": {},
   "source": [
    "## Ejemplo Adicional: Agregar filas/columnas (desde agregar_columnas_y_filas.py)"
   ]
  },
  {
   "cell_type": "code",
   "execution_count": null,
   "metadata": {},
   "outputs": [],
   "source": [
    "df_add = pd.DataFrame({\n",
    "    \"nombre\": [\"Ana\", \"Luis\", \"Carla\"],\n",
    "    \"edad\": [28, 34, 25]\n",
    "})\n",
    "print(\"DataFrame inicial 'df_add':\")\n",
    "print(df_add)\n",
    "\n",
    "# Agregar columna con lista explícita\n",
    "df_add[\"provincia\"] = [\"Tierra del Fuego\", \"Buenos Aires\", \"Mendoza\"]\n",
    "print(\"\\n'df_add' con provincia:\")\n",
    "print(df_add)\n",
    "\n",
    "# Agregar fila como diccionario\n",
    "nueva_fila_add = {\n",
    "    \"nombre\": \"Marcos\", \"edad\": 40, \"provincia\": \"Córdoba\"\n",
    "}\n",
    "df_add = pd.concat([df_add, pd.DataFrame([nueva_fila_add])], ignore_index=True)\n",
    "print(\"\\n'df_add' con Marcos:\")\n",
    "print(df_add)\n",
    "\n",
    "# Agregar fila con valores faltantes\n",
    "otra_fila_add = {\n",
    "    \"nombre\": \"Lucía\", \"edad\": None, \"provincia\": None\n",
    "}\n",
    "df_add = pd.concat([df_add, pd.DataFrame([otra_fila_add])], ignore_index=True)\n",
    "print(\"\\n'df_add' con Lucía (con Nones):\")\n",
    "print(df_add)"
   ]
  },
  {
   "cell_type": "markdown",
   "metadata": {},
   "source": [
    "# BLOQUE 3 – PROBLEMAS EN DATOS ESTRUCTURADOS (Integrando MD Bloque 3)"
   ]
  },
  {
   "cell_type": "markdown",
   "metadata": {},
   "source": [
    "## Actividad 1: Dataset sintético con errores variados (desde MD y original)"
   ]
  },
  {
   "cell_type": "code",
   "execution_count": null,
   "metadata": {},
   "outputs": [],
   "source": [
    "datos_problemas = [\n",
    "    {\"id\": 1, \"nombre\": \"Ana\", \"edad\": 31, \"ingreso\": \"20000\", \"sexo\": \"F\"},\n",
    "    {\"id\": 2, \"nombre\": \"Luis\", \"edad\": None, \"ingreso\": \"NaN\", \"sexo\": \"M\"}, # NaN como string\n",
    "    {\"id\": 3, \"nombre\": \"Carla\", \"edad\": -5, \"ingreso\": \"25000\", \"sexo\": \"Femenino\"}, # Edad inválida, sexo inconsistente\n",
    "    {\"id\": 4, \"nombre\": \"Juan\", \"edad\": \"cuarenta\", \"ingreso\": \"veinte mil\", \"sexo\": \"M\"}, # Edad e ingreso como texto\n",
    "    {\"id\": 5, \"nombre\": \"Ana\", \"edad\": 31, \"ingreso\": \"20000\", \"sexo\": \"F\"} # Duplicado\n",
    "]\n",
    "df_problemas = pd.DataFrame(datos_problemas)\n",
    "print(\"DataFrame 'df_problemas' inicial:\")\n",
    "print(df_problemas)\n",
    "print(\"\\nTipos iniciales:\")\n",
    "print(df_problemas.dtypes) # Notar que edad e ingreso son 'object' (string)"
   ]
  },
  {
   "cell_type": "markdown",
   "metadata": {},
   "source": [
    "## Actividad 2: Detección de valores faltantes (desde MD)"
   ]
  },
  {
   "cell_type": "code",
   "execution_count": null,
   "metadata": {},
   "outputs": [],
   "source": [
    "# Visualizar valores nulos por columna (cuenta los None/NaN verdaderos)\n",
    "print(\"Conteo de NaNs por columna (antes de conversión):\")\n",
    "print(df_problemas.isna().sum()) # Solo detecta el None en edad\n",
    "\n",
    "# Ver todas las filas con al menos un valor nulo (verdadero)\n",
    "print(\"\\nFilas con algún NaN (antes de conversión):\")\n",
    "print(df_problemas[df_problemas.isna().any(axis=1)])"
   ]
  },
  {
   "cell_type": "markdown",
   "metadata": {},
   "source": [
    "## Actividad 3: Reemplazar valores faltantes y conversión (desde MD y original)"
   ]
  },
  {
   "cell_type": "code",
   "execution_count": null,
   "metadata": {},
   "outputs": [],
   "source": [
    "# Convertir 'edad' a numérico. errors='coerce' transforma lo no convertible en NaN\n",
    "df_problemas[\"edad\"] = pd.to_numeric(df_problemas[\"edad\"], errors=\"coerce\")\n",
    "print(\"\\nDataFrame después de convertir 'edad' a numérico (errores son NaN):\")\n",
    "print(df_problemas)\n",
    "print(f\"NaNs en edad ahora: {df_problemas['edad'].isna().sum()}\")\n",
    "\n",
    "# Rellenar edad faltante (NaN) con un valor (ej: media o valor fijo como 35)\n",
    "# Calculamos la media ignorando los NaN existentes y el valor inválido (-5)\n",
    "edad_media_valida = df_problemas[(df_problemas[\"edad\"] > 0) & (df_problemas[\"edad\"] < 120)][\"edad\"].mean()\n",
    "# df_problemas[\"edad\"] = df_problemas[\"edad\"].fillna(edad_media_valida) # Opción con media\n",
    "df_problemas[\"edad\"] = df_problemas[\"edad\"].fillna(35) # Opción con valor fijo (como en original)\n",
    "print(\"\\nDataFrame después de rellenar NaN en 'edad' con 35:\")\n",
    "print(df_problemas)"
   ]
  },
  {
   "cell_type": "markdown",
   "metadata": {},
   "source": [
    "## Actividad 4: Detección y eliminación de duplicados (desde MD y original)"
   ]
  },
  {
   "cell_type": "code",
   "execution_count": null,
   "metadata": {},
   "outputs": [],
   "source": [
    "# Detectar filas duplicadas completas (devuelve Serie booleana)\n",
    "duplicados_bool = df_problemas.duplicated()\n",
    "print(\"\\nIndicador de filas duplicadas:\")\n",
    "print(duplicados_bool)\n",
    "print(\"\\nFilas que son duplicados:\")\n",
    "print(df_problemas[duplicados_bool])\n",
    "\n",
    "# Eliminar duplicados (conserva la primera aparición por defecto)\n",
    "df_problemas = df_problemas.drop_duplicates()\n",
    "print(\"\\nDataFrame después de eliminar duplicados:\")\n",
    "print(df_problemas)"
   ]
  },
  {
   "cell_type": "markdown",
   "metadata": {},
   "source": [
    "## Actividad 5: Validación de valores imposibles (desde MD)"
   ]
  },
  {
   "cell_type": "code",
   "execution_count": null,
   "metadata": {},
   "outputs": [],
   "source": [
    "# Buscar edades fuera de rango lógico (ej: < 0 o > 120)\n",
    "# Asegurarse que edad sea numérica primero (ya lo hicimos)\n",
    "print(\"Filas con edad fuera del rango lógico (0-120):\")\n",
    "print(df_problemas[(df_problemas[\"edad\"] < 0) | (df_problemas[\"edad\"] > 120)])\n",
    "# Aquí podríamos decidir corregir, eliminar o marcar estas filas.\n",
    "# Por ejemplo, reemplazar negativos con NaN o un valor imputado:\n",
    "# df_problemas.loc[df_problemas[\"edad\"] < 0, \"edad\"] = None # O np.nan"
   ]
  },
  {
   "cell_type": "markdown",
   "metadata": {},
   "source": [
    "## Actividad 6: Corrección de ingresos mal escritos (desde MD y original)"
   ]
  },
  {
   "cell_type": "code",
   "execution_count": null,
   "metadata": {},
   "outputs": [],
   "source": [
    "# Forzar ingreso a numérico, usando NaN donde falle\n",
    "# 'NaN' string y 'veinte mil' se volverán NaN\n",
    "df_problemas[\"ingreso\"] = pd.to_numeric(df_problemas[\"ingreso\"], errors=\"coerce\")\n",
    "print(\"\\nDataFrame después de convertir 'ingreso' a numérico:\")\n",
    "print(df_problemas)\n",
    "print(f\"NaNs en ingreso ahora: {df_problemas['ingreso'].isna().sum()}\")\n",
    "\n",
    "# Rellenar NaN en ingreso con la mediana (más robusta a outliers que la media)\n",
    "mediana_ingreso = df_problemas[\"ingreso\"].median()\n",
    "print(f\"Mediana del ingreso (para rellenar): {mediana_ingreso}\")\n",
    "df_problemas[\"ingreso\"] = df_problemas[\"ingreso\"].fillna(mediana_ingreso)\n",
    "print(\"\\nDataFrame después de rellenar NaN en 'ingreso' con la mediana:\")\n",
    "print(df_problemas)"
   ]
  },
  {
   "cell_type": "markdown",
   "metadata": {},
   "source": [
    "## Actividad 7: Normalización de variables categóricas (desde MD y original)"
   ]
  },
  {
   "cell_type": "code",
   "execution_count": null,
   "metadata": {},
   "outputs": [],
   "source": [
    "# Unificación de etiquetas en 'sexo'\n",
    "# 1. Convertir a minúsculas y quitar espacios extra\n",
    "df_problemas[\"sexo\"] = df_problemas[\"sexo\"].str.lower().str.strip()\n",
    "# 2. Reemplazo explícito de valores incorrectos/variantes\n",
    "df_problemas[\"sexo\"] = df_problemas[\"sexo\"].replace({\"femenino\": \"f\", \"masculino\": \"m\"})\n",
    "print(\"\\nDataFrame con columna 'sexo' normalizada:\")\n",
    "print(df_problemas)\n",
    "print(\"\\nValores únicos en 'sexo' después de normalizar:\")\n",
    "print(df_problemas[\"sexo\"].value_counts())"
   ]
  },
  {
   "cell_type": "markdown",
   "metadata": {},
   "source": [
    "## Actividad 8: Chequeo final de integridad de tipos (desde MD)"
   ]
  },
  {
   "cell_type": "code",
   "execution_count": null,
   "metadata": {},
   "outputs": [],
   "source": [
    "print(\"Tipos de datos finales:\")\n",
    "print(df_problemas.dtypes)\n",
    "\n",
    "# Confirmar que 'edad' y 'ingreso' sean numéricos usando assert\n",
    "# assert df_problemas[\"edad\"].dtype in [\"int64\", \"float64\"], \"La columna 'edad' no es numérica\"\n",
    "# assert df_problemas[\"ingreso\"].dtype in [\"int64\", \"float64\"], \"La columna 'ingreso' no es numérica\"\n",
    "# Usamos una comprobación más flexible con pd.api.types\n",
    "assert pd.api.types.is_numeric_dtype(df_problemas[\"edad\"]), \"La columna 'edad' no es numérica\"\n",
    "assert pd.api.types.is_numeric_dtype(df_problemas[\"ingreso\"]), \"La columna 'ingreso' no es numérica\"\n",
    "print(\"\\nComprobación de tipos numéricos para 'edad' e 'ingreso' exitosa.\")"
   ]
  },
  {
   "cell_type": "markdown",
   "metadata": {},
   "source": [
    "# BLOQUE 4 – DATOS SEMIESTRUCTURADOS (JSON, anidados) (Integrando MD Bloque 4)"
   ]
  },
  {
   "cell_type": "markdown",
   "metadata": {},
   "source": [
    "## Actividad 1: Diccionario con estructura anidada simple (desde MD)"
   ]
  },
  {
   "cell_type": "code",
   "execution_count": null,
   "metadata": {},
   "outputs": [],
   "source": [
    "usuario_anidado = {\n",
    "    \"id\": 101,\n",
    "    \"nombre\": \"Mariana\",\n",
    "    \"contacto\": {\n",
    "        \"email\": \"mariana@example.com\",\n",
    "        \"telefono\": \"2901432001\"\n",
    "    },\n",
    "    \"ubicacion\": {\n",
    "        \"ciudad\": \"Río Grande\",\n",
    "        \"provincia\": \"Tierra del Fuego\"\n",
    "    }\n",
    "}\n",
    "print(f\"Usuario anidado: {usuario_anidado}\")\n",
    "# Acceso a elementos anidados\n",
    "print(f\"Email de contacto: {usuario_anidado['contacto']['email']}\")\n",
    "print(f\"Ciudad de ubicación: {usuario_anidado['ubicacion']['ciudad']}\")"
   ]
  },
  {
   "cell_type": "markdown",
   "metadata": {},
   "source": [
    "## Actividad 2: Lista de entradas con estructura JSON irregular (desde MD y original)"
   ]
  },
  {
   "cell_type": "code",
   "execution_count": null,
   "metadata": {},
   "outputs": [],
   "source": [
    "usuarios_irregulares = [\n",
    "    {\n",
    "        \"id\": 1,\n",
    "        \"nombre\": \"Ana\",\n",
    "        \"ubicacion\": {\"ciudad\": \"Ushuaia\", \"pais\": \"Argentina\"},\n",
    "        \"preferencias\": {\"newsletter\": True}\n",
    "    },\n",
    "    {\n",
    "        \"id\": 2,\n",
    "        \"nombre\": \"Luis\",\n",
    "        \"ubicacion\": {\"ciudad\": \"Tolhuin\"}, # país faltante\n",
    "        \"preferencias\": {} # preferencias vacío\n",
    "    },\n",
    "    {\n",
    "        \"id\": 3,\n",
    "        \"nombre\": \"Rosa\",\n",
    "        # ubicación faltante\n",
    "        \"preferencias\": {\"newsletter\": False}\n",
    "    }\n",
    "]\n",
    "print(\"Lista de usuarios irregulares:\")\n",
    "print(usuarios_irregulares)"
   ]
  },
  {
   "cell_type": "markdown",
   "metadata": {},
   "source": [
    "## Actividad 3: Convertir lista de JSONs a DataFrame (desde MD)"
   ]
  },
  {
   "cell_type": "code",
   "execution_count": null,
   "metadata": {},
   "outputs": [],
   "source": [
    "df_usuarios_irregulares = pd.DataFrame(usuarios_irregulares)\n",
    "print(\"DataFrame desde lista irregular (columnas anidadas son dicts):\")\n",
    "print(df_usuarios_irregulares)\n",
    "print(\"\\nTipos de datos:\")\n",
    "print(df_usuarios_irregulares.dtypes) # 'ubicacion' y 'preferencias' son 'object'"
   ]
  },
  {
   "cell_type": "markdown",
   "metadata": {},
   "source": [
    "## Actividad 4: Expandir columnas anidadas con pd.json_normalize (desde MD)"
   ]
  },
  {
   "cell_type": "code",
   "execution_count": null,
   "metadata": {},
   "outputs": [],
   "source": [
    "# Expande las claves de los diccionarios anidados en nuevas columnas\n",
    "# 'sep' define el separador entre el nombre original y la clave anidada\n",
    "df_usuarios_normalizado = pd.json_normalize(usuarios_irregulares, sep='_')\n",
    "print(\"DataFrame normalizado con json_normalize:\")\n",
    "print(df_usuarios_normalizado)\n",
    "# Notar que crea columnas como 'ubicacion_ciudad', 'ubicacion_pais', 'preferencias_newsletter'\n",
    "# Maneja automáticamente los campos faltantes (resultan en NaN)"
   ]
  },
  {
   "cell_type": "markdown",
   "metadata": {},
   "source": [
    "## Actividad 5: Convertir campo JSON a texto y volver a estructura (desde MD)"
   ]
  },
  {
   "cell_type": "code",
   "execution_count": null,
   "metadata": {},
   "outputs": [],
   "source": [
    "# (Ya cubierto en Bloque 1, Actividad 6, pero reforzamos)\n",
    "# Convertir un diccionario (usuario_anidado) en texto JSON\n",
    "json_str_generado = json.dumps(usuario_anidado, indent=2)\n",
    "print(\"Diccionario 'usuario_anidado' como JSON string:\")\n",
    "print(json_str_generado)\n",
    "\n",
    "# Volver de texto a diccionario\n",
    "usuario_recuperado = json.loads(json_str_generado)\n",
    "print(f\"\\nDiccionario recuperado: {usuario_recuperado}\")\n",
    "print(f\"Nombre recuperado: {usuario_recuperado['nombre']}\")"
   ]
  },
  {
   "cell_type": "markdown",
   "metadata": {},
   "source": [
    "## Actividad 6: Iterar y extraer elementos faltantes de forma segura (desde MD)"
   ]
  },
  {
   "cell_type": "code",
   "execution_count": null,
   "metadata": {},
   "outputs": [],
   "source": [
    "# Verificar si cada entrada tiene clave 'pais' en 'ubicacion' usando .get()\n",
    "print(\"Extrayendo país de forma segura:\")\n",
    "for u in usuarios_irregulares:\n",
    "    # u.get(\"ubicacion\", {}) devuelve {} si \"ubicacion\" no existe\n",
    "    # {}.get(\"pais\", \"FALTANTE\") devuelve \"FALTANTE\" si \"pais\" no existe en el dict de ubicacion\n",
    "    pais = u.get(\"ubicacion\", {}).get(\"pais\", \"FALTANTE\")\n",
    "    print(f\"{u['nombre']} → país: {pais}\")"
   ]
  },
  {
   "cell_type": "markdown",
   "metadata": {},
   "source": [
    "## Actividad 7: Reconstrucción de estructura regular (Aplanamiento manual) (desde MD y original)"
   ]
  },
  {
   "cell_type": "code",
   "execution_count": null,
   "metadata": {},
   "outputs": [],
   "source": [
    "# Crear DataFrame con extracción explícita usando .get para seguridad\n",
    "registros_planos = []\n",
    "for u in usuarios_irregulares:\n",
    "    nombre = u.get(\"nombre\", None) # Aunque nombre siempre está, es buena práctica\n",
    "    # Acceso anidado seguro\n",
    "    ubicacion_dict = u.get(\"ubicacion\", {}) # Obtiene dict de ubicación o {} si no existe\n",
    "    ciudad = ubicacion_dict.get(\"ciudad\", None) # Obtiene ciudad o None\n",
    "    pais = ubicacion_dict.get(\"pais\", None) # Obtiene pais o None\n",
    "    # Acceso anidado seguro para preferencias\n",
    "    preferencias_dict = u.get(\"preferencias\", {})\n",
    "    newsletter = preferencias_dict.get(\"newsletter\", None) # Obtiene newsletter o None\n",
    "\n",
    "    registros_planos.append({\n",
    "        \"nombre\": nombre,\n",
    "        \"ciudad\": ciudad,\n",
    "        \"pais\": pais,\n",
    "        \"newsletter\": newsletter\n",
    "    })\n",
    "\n",
    "df_reconstruido = pd.DataFrame(registros_planos)\n",
    "print(\"DataFrame reconstruido manualmente (aplanado):\")\n",
    "print(df_reconstruido)"
   ]
  },
  {
   "cell_type": "markdown",
   "metadata": {},
   "source": [
    "# BLOQUE 5 – TEXTO NO ESTRUCTURADO (Integrando MD Bloque 5)"
   ]
  },
  {
   "cell_type": "markdown",
   "metadata": {},
   "source": [
    "## Actividad 1: Dataset sintético con comentarios (desde MD y original)"
   ]
  },
  {
   "cell_type": "code",
   "execution_count": null,
   "metadata": {},
   "outputs": [],
   "source": [
    "datos_texto = [\n",
    "    {\"id\": 1, \"comentario\": \"Excelente servicio!\"},\n",
    "    {\"id\": 2, \"comentario\": \"no me gusto el trato\"},\n",
    "    {\"id\": 3, \"comentario\": \"  MUY bueno  \"}, # Espacios extra, mayúsculas\n",
    "    {\"id\": 4, \"comentario\": \"\"}, # Vacío\n",
    "    {\"id\": 5, \"comentario\": \"atención regular, pero volvería\"},\n",
    "    {\"id\": 6, \"comentario\": \"no ANDUVO bien el sistema\"}, # Mayúsculas\n",
    "    {\"id\": 7, \"comentario\": None}, # Nulo\n",
    "    {\"id\": 8, \"comentario\": \"funciono bn, pero se tildo\"} # Abreviaciones, errores\n",
    "]\n",
    "df_texto = pd.DataFrame(datos_texto)\n",
    "print(\"DataFrame 'df_texto' inicial:\")\n",
    "print(df_texto)"
   ]
  },
  {
   "cell_type": "markdown",
   "metadata": {},
   "source": [
    "## Actividad 2: Identificación de campos vacíos o nulos (desde MD)"
   ]
  },
  {
   "cell_type": "code",
   "execution_count": null,
   "metadata": {},
   "outputs": [],
   "source": [
    "# Comentarios que son None/NaN\n",
    "print(\"Filas con comentario NaN:\")\n",
    "print(df_texto[df_texto[\"comentario\"].isna()])\n",
    "# Comentarios que son string vacío \"\"\n",
    "print(\"\\nFilas con comentario vacío ('') :\")\n",
    "print(df_texto[df_texto[\"comentario\"] == \"\"])\n",
    "# Combinado: Nulos o Vacíos\n",
    "print(\"\\nFilas con comentario NaN o vacío:\")\n",
    "print(df_texto[df_texto[\"comentario\"].isna() | (df_texto[\"comentario\"] == \"\")])"
   ]
  },
  {
   "cell_type": "markdown",
   "metadata": {},
   "source": [
    "## Actividad 3: Normalización básica del texto (desde MD y original)"
   ]
  },
  {
   "cell_type": "code",
   "execution_count": null,
   "metadata": {},
   "outputs": [],
   "source": [
    "# 1. Rellenar NaN con string vacío para poder aplicar métodos de string\n",
    "# 2. Eliminar espacios iniciales y finales (.str.strip())\n",
    "# 3. Pasar a minúsculas (.str.lower())\n",
    "df_texto[\"comentario_normalizado\"] = df_texto[\"comentario\"].fillna(\"\").str.strip().str.lower()\n",
    "print(\"DataFrame con 'comentario_normalizado':\")\n",
    "print(df_texto[[\"id\", \"comentario\", \"comentario_normalizado\"]])"
   ]
  },
  {
   "cell_type": "markdown",
   "metadata": {},
   "source": [
    "## Actividad 4: Búsqueda de patrones simples con str.contains (desde MD)"
   ]
  },
  {
   "cell_type": "code",
   "execution_count": null,
   "metadata": {},
   "outputs": [],
   "source": [
    "# Filtrar comentarios normalizados que contienen la palabra \"no\"\n",
    "contienen_no = df_texto[\"comentario_normalizado\"].str.contains(\"no\")\n",
    "print(\"\\nFilas donde 'comentario_normalizado' contiene 'no':\")\n",
    "print(df_texto[contienen_no])"
   ]
  },
  {
   "cell_type": "markdown",
   "metadata": {},
   "source": [
    "## Actividad 5: Limpieza de signos y puntuación básica (desde MD y original)"
   ]
  },
  {
   "cell_type": "code",
   "execution_count": null,
   "metadata": {},
   "outputs": [],
   "source": [
    "# Eliminar caracteres que NO son letras, números o espacios en blanco\n",
    "# [^\\w\\s] -> ^ significa 'no', \\w significa 'word character' (letras, números, _), \\s significa 'whitespace'\n",
    "# Usamos regex=True\n",
    "df_texto[\"comentario_limpio\"] = df_texto[\"comentario_normalizado\"].str.replace(r\"[^\\w\\s]\", \"\", regex=True)\n",
    "print(\"DataFrame con 'comentario_limpio' (sin puntuación):\")\n",
    "print(df_texto[[\"id\", \"comentario_normalizado\", \"comentario_limpio\"]])"
   ]
  },
  {
   "cell_type": "markdown",
   "metadata": {},
   "source": [
    "## Actividad 6: Análisis de longitud del texto (desde MD y original)"
   ]
  },
  {
   "cell_type": "code",
   "execution_count": null,
   "metadata": {},
   "outputs": [],
   "source": [
    "# Longitud de cada comentario limpio\n",
    "df_texto[\"longitud\"] = df_texto[\"comentario_limpio\"].str.len()\n",
    "print(\"DataFrame con longitud del comentario limpio:\")\n",
    "print(df_texto[[\"id\", \"comentario_limpio\", \"longitud\"]])"
   ]
  },
  {
   "cell_type": "markdown",
   "metadata": {},
   "source": [
    "## Actividad 7: Conteo de palabras por fila (desde MD y original)"
   ]
  },
  {
   "cell_type": "code",
   "execution_count": null,
   "metadata": {},
   "outputs": [],
   "source": [
    "# 1. Dividir el comentario limpio en palabras (.str.split()) -> genera una lista de palabras\n",
    "# 2. Aplicar la función len() a cada lista para contar las palabras (.apply(len))\n",
    "df_texto[\"palabras\"] = df_texto[\"comentario_limpio\"].str.split().apply(len)\n",
    "print(\"DataFrame con conteo de palabras:\")\n",
    "print(df_texto[[\"id\", \"comentario_limpio\", \"palabras\"]])"
   ]
  },
  {
   "cell_type": "markdown",
   "metadata": {},
   "source": [
    "## Actividad 8: Detección de abreviaciones o errores comunes (desde MD)"
   ]
  },
  {
   "cell_type": "code",
   "execution_count": null,
   "metadata": {},
   "outputs": [],
   "source": [
    "# Detección básica usando regex con OR (|)\n",
    "# Buscamos 'bn' O 'tildo' O 'anduvo' (corregido de 'andubo') en el comentario limpio\n",
    "patron_errores = r\"bn|tildo|anduvo\" # 'anduvo' está bien escrito, quizás buscar 'anduBo'?\n",
    "# Usemos el ejemplo original: \"bn|tildo|andubo\" (asumiendo 'andubo' es error)\n",
    "patron_errores_md = r\"bn|tildo|andubo\"\n",
    "errores_comunes = df_texto[\"comentario_limpio\"].str.contains(patron_errores_md, regex=True)\n",
    "print(f\"Filas que contienen patrones '{patron_errores_md}':\")\n",
    "print(df_texto[errores_comunes])"
   ]
  },
  {
   "cell_type": "markdown",
   "metadata": {},
   "source": [
    "# BLOQUE 6 – DIAGNÓSTICO DE CALIDAD AVANZADO (Integrando MD Bloque 6)"
   ]
  },
  {
   "cell_type": "markdown",
   "metadata": {},
   "source": [
    "## Actividad 1: Dataset sintético con errores combinados (desde MD y original)"
   ]
  },
  {
   "cell_type": "code",
   "execution_count": null,
   "metadata": {},
   "outputs": [],
   "source": [
    "datos_diag = [\n",
    "    {\"id\": 1, \"edad\": 28, \"ingreso\": 45000, \"provincia\": \"Buenos Aires\"},\n",
    "    {\"id\": 2, \"edad\": None, \"ingreso\": 48000, \"provincia\": \"cordoba\"}, # NaN edad, provincia minúscula\n",
    "    {\"id\": 3, \"edad\": 37, \"ingreso\": \"50.000\", \"provincia\": \"Mendoza\"}, # Ingreso con punto (problema para to_numeric)\n",
    "    {\"id\": 4, \"edad\": -4, \"ingreso\": None, \"provincia\": \"Córdoba\"}, # Edad inválida, NaN ingreso, provincia con tilde\n",
    "    {\"id\": 5, \"edad\": 132, \"ingreso\": 60000, \"provincia\": \"Neuquén\"}, # Edad inválida (outlier)\n",
    "    {\"id\": 6, \"edad\": \"treinta\", \"ingreso\": 55000, \"provincia\": \"buenos aires\"}, # Edad texto, provincia minúscula y duplicada semántica\n",
    "    {\"id\": 7, \"edad\": 35, \"ingreso\": \"cincuenta mil\", \"provincia\": \"\"}, # Ingreso texto, provincia vacía\n",
    "    {\"id\": 8, \"edad\": 28, \"ingreso\": 45000, \"provincia\": \"Buenos Aires\"} # Duplicado exacto de fila 1\n",
    "]\n",
    "df_diag = pd.DataFrame(datos_diag)\n",
    "print(\"DataFrame 'df_diag' inicial:\")\n",
    "print(df_diag)\n",
    "print(\"\\nTipos iniciales:\")\n",
    "print(df_diag.dtypes)"
   ]
  },
  {
   "cell_type": "markdown",
   "metadata": {},
   "source": [
    "## Actividad 2: Conteo de valores faltantes por columna (desde MD)"
   ]
  },
  {
   "cell_type": "code",
   "execution_count": null,
   "metadata": {},
   "outputs": [],
   "source": [
    "# Antes de cualquier conversión\n",
    "print(\"NaNs iniciales (solo detecta None):\")\n",
    "print(df_diag.isna().sum())"
   ]
  },
  {
   "cell_type": "markdown",
   "metadata": {},
   "source": [
    "## Actividad 3: Validación de tipos y conversión forzada (desde MD y original)"
   ]
  },
  {
   "cell_type": "code",
   "execution_count": null,
   "metadata": {},
   "outputs": [],
   "source": [
    "# Pre-procesar ingreso para quitar puntos de miles antes de convertir\n",
    "df_diag[\"ingreso\"] = df_diag[\"ingreso\"].astype(str).str.replace(\".\", \"\", regex=False)\n",
    "\n",
    "# Forzar edad e ingreso a numérico (errors='coerce')\n",
    "df_diag[\"edad\"] = pd.to_numeric(df_diag[\"edad\"], errors=\"coerce\")\n",
    "df_diag[\"ingreso\"] = pd.to_numeric(df_diag[\"ingreso\"], errors=\"coerce\")\n",
    "print(\"\\nDataFrame después de conversión a numérico:\")\n",
    "print(df_diag)\n",
    "print(\"\\nTipos después de conversión:\")\n",
    "print(df_diag.dtypes)\n",
    "print(\"\\nNaNs después de conversión:\")\n",
    "print(df_diag.isna().sum()) # Ahora detecta los que fallaron en la conversión"
   ]
  },
  {
   "cell_type": "markdown",
   "metadata": {},
   "source": [
    "## Actividad 4: Análisis de distribuciones básicas (Outliers) (desde MD)"
   ]
  },
  {
   "cell_type": "code",
   "execution_count": null,
   "metadata": {},
   "outputs": [],
   "source": [
    "# Identificar edades fuera de rango lógico (0-120)\n",
    "fuera_de_rango = (df_diag[\"edad\"] < 0) | (df_diag[\"edad\"] > 120)\n",
    "print(\"Filas con edad fuera del rango (0-120):\")\n",
    "print(df_diag[fuera_de_rango])"
   ]
  },
  {
   "cell_type": "markdown",
   "metadata": {},
   "source": [
    "## Actividad 5: Diagnóstico de duplicados (desde MD)"
   ]
  },
  {
   "cell_type": "code",
   "execution_count": null,
   "metadata": {},
   "outputs": [],
   "source": [
    "duplicados_diag = df_diag.duplicated()\n",
    "print(\"Indicador de filas duplicadas:\")\n",
    "print(duplicados_diag)\n",
    "print(\"\\nFilas que son duplicados:\")\n",
    "print(df_diag[duplicados_diag])\n",
    "# Podríamos eliminarlos con df_diag = df_diag.drop_duplicates()"
   ]
  },
  {
   "cell_type": "markdown",
   "metadata": {},
   "source": [
    "## Actividad 6: Frecuencias de variables categóricas (desde MD)"
   ]
  },
  {
   "cell_type": "code",
   "execution_count": null,
   "metadata": {},
   "outputs": [],
   "source": [
    "# Estandarización de texto (minúsculas, sin espacios extra) y conteo\n",
    "# También quitamos tildes para unificar \"Córdoba\" y \"cordoba\"\n",
    "# Podríamos usar una librería como unidecode, o reemplazos manuales simples\n",
    "df_diag[\"provincia_norm\"] = df_diag[\"provincia\"].fillna(\"\").str.strip().str.lower()\n",
    "df_diag[\"provincia_norm\"] = df_diag[\"provincia_norm\"].str.replace(\"á\", \"a\").str.replace(\"é\", \"e\").str.replace(\"í\", \"i\").str.replace(\"ó\", \"o\").str.replace(\"ú\", \"u\")\n",
    "\n",
    "# Contar frecuencias, incluyendo NaN/Vacíos (representados por \"\" ahora)\n",
    "# dropna=False en value_counts() incluye los NaN si existieran (aquí usamos \"\" normalizado)\n",
    "frecuencias_prov = df_diag[\"provincia_norm\"].value_counts(dropna=False)\n",
    "print(\"Frecuencia de provincias normalizadas:\")\n",
    "print(frecuencias_prov)"
   ]
  },
  {
   "cell_type": "markdown",
   "metadata": {},
   "source": [
    "## Actividad 7: Detección de variables constantes o sin variabilidad (desde MD)"
   ]
  },
  {
   "cell_type": "code",
   "execution_count": null,
   "metadata": {},
   "outputs": [],
   "source": [
    "# Revisar columnas que podrían no aportar información (ej: si todas tuvieran el mismo valor)\n",
    "print(\"Número de valores únicos por columna (incluyendo NaN):\")\n",
    "for col in df_diag.columns:\n",
    "    # nunique(dropna=False) cuenta valores distintos, incluyendo NaN como uno si existe\n",
    "    unicos = df_diag[col].nunique(dropna=False)\n",
    "    print(f\"- Columna '{col}': {unicos} valores únicos\")\n",
    "    if unicos <= 1:\n",
    "        print(f\"  -> ¡Atención! Columna constante o vacía.\")"
   ]
  },
  {
   "cell_type": "markdown",
   "metadata": {},
   "source": [
    "## Actividad 8: Reporte cruzado de errores combinados (desde MD)"
   ]
  },
  {
   "cell_type": "code",
   "execution_count": null,
   "metadata": {},
   "outputs": [],
   "source": [
    "# Ejemplo: Buscar filas que tengan edad inválida (NaN, <0 o >120) Y TAMBIÉN provincia vacía\n",
    "condicion_edad_invalida = df_diag[\"edad\"].isna() | (df_diag[\"edad\"] < 0) | (df_diag[\"edad\"] > 120)\n",
    "condicion_provincia_vacia = df_diag[\"provincia_norm\"] == \"\"\n",
    "\n",
    "errores_combinados = df_diag[condicion_edad_invalida & condicion_provincia_vacia]\n",
    "print(\"Filas con edad inválida Y provincia vacía:\")\n",
    "print(errores_combinados)\n",
    "# En este dataset de ejemplo, no hay filas que cumplan ambas condiciones simultáneamente."
   ]
  },
  {
   "cell_type": "markdown",
   "metadata": {},
   "source": [
    "## Ejemplo Adicional: Encadenamiento de métodos (desde encadenamientos_basicos_pandas.py)"
   ]
  },
  {
   "cell_type": "code",
   "execution_count": null,
   "metadata": {},
   "outputs": [],
   "source": [
    "df_chain = pd.DataFrame({\n",
    "    \"nombre\": [\"Ana\", \"Luis\", \"Carla\", \"Juan\", None],\n",
    "    \"edad\": [28, None, -5, 132, 35],\n",
    "    \"ingreso\": [\"50000\", \"NaN\", \"cincuenta mil\", \"60000\", None]\n",
    "})\n",
    "print(\"DataFrame 'df_chain' inicial:\")\n",
    "print(df_chain)\n",
    "\n",
    "# Encadenamiento: fillna -> str.strip -> str.lower\n",
    "df_chain[\"nombre_norm\"] = df_chain[\"nombre\"].fillna(\"\").str.strip().str.lower()\n",
    "print(\"\\nNombre normalizado (encadenado):\")\n",
    "print(df_chain[[\"nombre\", \"nombre_norm\"]])\n",
    "\n",
    "# Encadenamiento: to_numeric -> fillna con mediana\n",
    "df_chain[\"ingreso_num\"] = pd.to_numeric(df_chain[\"ingreso\"], errors=\"coerce\")\n",
    "mediana_ingreso_chain = df_chain[\"ingreso_num\"].median()\n",
    "df_chain[\"ingreso_num\"] = df_chain[\"ingreso_num\"].fillna(mediana_ingreso_chain)\n",
    "print(\"\\nIngreso numérico y relleno (encadenado conceptualmente):\")\n",
    "print(df_chain[[\"ingreso\", \"ingreso_num\"]])\n",
    "\n",
    "# Encadenamiento: Filtrar y seleccionar columnas\n",
    "# Filtrar edad válida (0-120) y seleccionar nombre e ingreso\n",
    "df_filtrado = df_chain[\n",
    "    (pd.to_numeric(df_chain[\"edad\"], errors='coerce').fillna(-1) >= 0) &\n",
    "    (pd.to_numeric(df_chain[\"edad\"], errors='coerce').fillna(999) <= 120)\n",
    "][[\"nombre_norm\", \"ingreso_num\"]]\n",
    "print(\"\\nFiltrado de edad válida y selección de columnas (encadenado):\")\n",
    "print(df_filtrado)"
   ]
  },
  {
   "cell_type": "markdown",
   "metadata": {},
   "source": [
    "# BLOQUE 7 – VISUALIZACIÓN BÁSICA (Integrando MD Bloque 7)"
   ]
  },
  {
   "cell_type": "code",
   "execution_count": null,
   "metadata": {},
   "outputs": [],
   "source": [
    "# Dataset sintético (desde MD y original)\n",
    "df_vis = pd.DataFrame({\n",
    "    \"edad\": [22, 25, 29, 34, 38, 41, 44, 49, 52, 60],\n",
    "    \"sexo\": [\"F\", \"M\", \"F\", \"F\", \"M\", \"F\", \"M\", \"F\", \"M\", \"F\"],\n",
    "    \"ingreso\": [35000, 42000, 39000, 47000, 52000, 48000, 51000, 50000, 55000, 59000]\n",
    "})\n",
    "print(\"DataFrame 'df_vis' para visualización:\")\n",
    "print(df_vis)"
   ]
  },
  {
   "cell_type": "markdown",
   "metadata": {},
   "source": [
    "## Actividad 1: Histograma de una variable numérica (desde MD y original)"
   ]
  },
  {
   "cell_type": "code",
   "execution_count": null,
   "metadata": {},
   "outputs": [],
   "source": [
    "df_vis[\"edad\"].plot.hist(bins=5, title=\"Distribución de edades\", edgecolor='black')\n",
    "plt.xlabel(\"Edad\")\n",
    "plt.ylabel(\"Frecuencia\")\n",
    "plt.grid(axis='y', alpha=0.75)\n",
    "plt.show() # Muestra el gráfico y espera"
   ]
  },
  {
   "cell_type": "markdown",
   "metadata": {},
   "source": [
    "## Actividad 2: Boxplot para detectar valores extremos (desde MD y original)"
   ]
  },
  {
   "cell_type": "code",
   "execution_count": null,
   "metadata": {},
   "outputs": [],
   "source": [
    "df_vis[\"ingreso\"].plot.box(title=\"Boxplot de ingreso\")\n",
    "plt.ylabel(\"Ingreso\")\n",
    "plt.grid(axis='y', alpha=0.75)\n",
    "plt.show()"
   ]
  },
  {
   "cell_type": "markdown",
   "metadata": {},
   "source": [
    "## Actividad 3: Gráfico de barras de frecuencias (desde MD y original)"
   ]
  },
  {
   "cell_type": "code",
   "execution_count": null,
   "metadata": {},
   "outputs": [],
   "source": [
    "# Contar frecuencias y luego graficar\n",
    "df_vis[\"sexo\"].value_counts().plot.bar(title=\"Distribución por sexo\", rot=0) # rot=0 para etiquetas horizontales\n",
    "plt.xlabel(\"Sexo\")\n",
    "plt.ylabel(\"Frecuencia\")\n",
    "plt.grid(axis='y', alpha=0.75)\n",
    "plt.show()"
   ]
  },
  {
   "cell_type": "markdown",
   "metadata": {},
   "source": [
    "## Actividad 4: Gráfico de líneas (simulación temporal) (desde MD y original)"
   ]
  },
  {
   "cell_type": "code",
   "execution_count": null,
   "metadata": {},
   "outputs": [],
   "source": [
    "# Supongamos que el índice representa el orden temporal\n",
    "df_vis[\"ingreso\"].plot.line(title=\"Evolución del ingreso (simulado)\", marker='o')\n",
    "plt.ylabel(\"Ingreso\")\n",
    "plt.xlabel(\"Índice (orden temporal simulado)\")\n",
    "plt.grid(True)\n",
    "plt.show()"
   ]
  },
  {
   "cell_type": "markdown",
   "metadata": {},
   "source": [
    "## Actividad 5: Comprobación de distribución conjunta (agregación) (desde MD)"
   ]
  },
  {
   "cell_type": "code",
   "execution_count": null,
   "metadata": {},
   "outputs": [],
   "source": [
    "# Agrupación por sexo y cálculo de la media de edad\n",
    "media_edad_por_sexo = df_vis.groupby(\"sexo\")[\"edad\"].mean()\n",
    "print(\"\\nMedia de edad por sexo:\")\n",
    "print(media_edad_por_sexo)\n",
    "\n",
    "# Agrupación por sexo y recuento (tamaño del grupo)\n",
    "conteo_por_sexo = df_vis.groupby(\"sexo\")[\"edad\"].count() # o .size()\n",
    "print(\"\\nCantidad de personas por sexo:\")\n",
    "print(conteo_por_sexo)\n",
    "# Podríamos graficar estas agregaciones también (ej: con .plot.bar())\n",
    "media_edad_por_sexo.plot.bar(title=\"Edad Media por Sexo\", rot=0)\n",
    "plt.ylabel(\"Edad Media\")\n",
    "plt.show()"
   ]
  },
  {
   "cell_type": "markdown",
   "metadata": {},
   "source": [
    "# BLOQUE 8 – CASO INTEGRADOR (Integrando MD Bloque 8)"
   ]
  },
  {
   "cell_type": "code",
   "execution_count": null,
   "metadata": {},
   "outputs": [],
   "source": [
    "# Dataset mixto: respuestas de encuesta (desde MD y original)\n",
    "respuestas = [\n",
    "    {\n",
    "        \"id\": 1, \"nombre\": \"Ana\", \"edad\": 28, \"provincia\": \"Tierra del Fuego\",\n",
    "        \"satisfaccion\": 4, \"comentario\": \"Muy buena atención\",\n",
    "        \"perfil_json\": '{\"ingreso_mensual\": \"50000\", \"newsletter\": true}'\n",
    "    },\n",
    "    {\n",
    "        \"id\": 2, \"nombre\": \"Luis\", \"edad\": \"treinta\", \"provincia\": \"buenos aires\", # Edad texto, prov minúscula\n",
    "        \"satisfaccion\": None, \"comentario\": \"no me gusto el trato\", # NaN satisf, comentario negativo\n",
    "        \"perfil_json\": '{\"ingreso_mensual\": \"NaN\", \"newsletter\": false}' # Ingreso NaN string\n",
    "    },\n",
    "    {\n",
    "        \"id\": 3, \"nombre\": \"Rosa\", \"edad\": 41, \"provincia\": \"Cordoba\", # Prov sin tilde\n",
    "        \"satisfaccion\": 5, \"comentario\": None, # Comentario NaN\n",
    "        \"perfil_json\": '{\"ingreso_mensual\": \"60.000\", \"newsletter\": true}' # Ingreso con punto\n",
    "    },\n",
    "    {\n",
    "        \"id\": 4, \"nombre\": \"Ana\", \"edad\": 28, \"provincia\": \"Tierra del fuego\", # Duplicado semántico, prov minúscula\n",
    "        \"satisfaccion\": 4, \"comentario\": \"muy buena atención\", # Comentario minúscula\n",
    "        \"perfil_json\": '{\"ingreso_mensual\": \"50000\", \"newsletter\": true}' # Duplicado semántico\n",
    "    },\n",
    "    {\n",
    "        \"id\": 5, \"nombre\": \"Carla\", \"edad\": -3, \"provincia\": \"\", # Edad inválida, prov vacía\n",
    "        \"satisfaccion\": 3, \"comentario\": \"funciono bn\", # Comentario con abreviación\n",
    "        \"perfil_json\": '{\"ingreso_mensual\": \"cincuenta mil\", \"newsletter\": true}' # Ingreso texto\n",
    "    }\n",
    "]\n",
    "df_caso = pd.DataFrame(respuestas)\n",
    "print(\"DataFrame 'df_caso' inicial:\")\n",
    "print(df_caso)"
   ]
  },
  {
   "cell_type": "markdown",
   "metadata": {},
   "source": [
    "## Paso 1: Diagnóstico estructural (desde MD)"
   ]
  },
  {
   "cell_type": "code",
   "execution_count": null,
   "metadata": {},
   "outputs": [],
   "source": [
    "print(\"\\nInformación general (info):\")\n",
    "df_caso.info()\n",
    "print(\"\\nConteo de NaNs inicial:\")\n",
    "print(df_caso.isna().sum())\n",
    "print(\"\\nTipos de datos iniciales:\")\n",
    "print(df_caso.dtypes)"
   ]
  },
  {
   "cell_type": "markdown",
   "metadata": {},
   "source": [
    "## Paso 2: Revisión de duplicados y valores anómalos (desde MD)"
   ]
  },
  {
   "cell_type": "code",
   "execution_count": null,
   "metadata": {},
   "outputs": [],
   "source": [
    "# Revisar duplicados basados en todas las columnas\n",
    "print(f\"\\nFilas duplicadas exactas: {df_caso.duplicated().sum()}\")\n",
    "# Revisar duplicados semánticos (ej: Ana, 28 años, TdF) - requiere más lógica\n",
    "print(\"\\nFilas con edad anómala (NaN, texto, fuera de rango):\")\n",
    "# Convertimos edad a numérico para facilitar la detección\n",
    "df_caso[\"edad_num\"] = pd.to_numeric(df_caso[\"edad\"], errors=\"coerce\")\n",
    "print(df_caso[df_caso[\"edad_num\"].isna() | (df_caso[\"edad_num\"] < 0) | (df_caso[\"edad_num\"] > 120)])"
   ]
  },
  {
   "cell_type": "markdown",
   "metadata": {},
   "source": [
    "## Paso 3: Revisión de valores únicos por categoría (Provincia) (desde MD)"
   ]
  },
  {
   "cell_type": "code",
   "execution_count": null,
   "metadata": {},
   "outputs": [],
   "source": [
    "# Normalizar provincia (minúsculas, strip, quitar tildes)\n",
    "df_caso[\"provincia_norm\"] = df_caso[\"provincia\"].fillna(\"\").str.strip().str.lower()\n",
    "df_caso[\"provincia_norm\"] = df_caso[\"provincia_norm\"].str.replace(\"á\", \"a\").str.replace(\"é\", \"e\").str.replace(\"í\", \"i\").str.replace(\"ó\", \"o\").str.replace(\"ú\", \"u\")\n",
    "print(\"\\nFrecuencia de provincias normalizadas:\")\n",
    "print(df_caso[\"provincia_norm\"].value_counts(dropna=False)) # dropna=False para ver los vacíos \"\""
   ]
  },
  {
   "cell_type": "markdown",
   "metadata": {},
   "source": [
    "## Paso 4: Inspección básica de comentarios (desde MD y original)"
   ]
  },
  {
   "cell_type": "code",
   "execution_count": null,
   "metadata": {},
   "outputs": [],
   "source": [
    "# Normalizar comentarios (fillna, lower, strip)\n",
    "df_caso[\"comentario_norm\"] = df_caso[\"comentario\"].fillna(\"\").str.strip().str.lower()\n",
    "print(\"\\nComentarios normalizados (primeros 5):\")\n",
    "print(df_caso[\"comentario_norm\"].head())\n",
    "print(\"\\nFrecuencia de comentarios normalizados:\")\n",
    "print(df_caso[\"comentario_norm\"].value_counts())"
   ]
  },
  {
   "cell_type": "markdown",
   "metadata": {},
   "source": [
    "## Paso 5: Extracción de campos anidados desde perfil_json (desde MD y original)"
   ]
  },
  {
   "cell_type": "code",
   "execution_count": null,
   "metadata": {},
   "outputs": [],
   "source": [
    "# Convertir la columna 'perfil_json' (string) en diccionarios Python\n",
    "# Usamos .apply() con una función lambda que llama a json.loads()\n",
    "# Manejamos posibles errores si algún JSON es inválido (aunque no en este ejemplo)\n",
    "try:\n",
    "    df_caso[\"perfil_dict\"] = df_caso[\"perfil_json\"].apply(json.loads)\n",
    "except json.JSONDecodeError as e:\n",
    "    print(f\"Error al decodificar JSON: {e}\")\n",
    "    # Aquí podríamos manejar el error, ej: asignar None o un dict vacío\n",
    "    df_caso[\"perfil_dict\"] = None\n",
    "\n",
    "print(\"\\nDataFrame con 'perfil_dict' (columna de diccionarios):\")\n",
    "print(df_caso[[\"id\", \"perfil_dict\"]])\n",
    "\n",
    "# Extraer 'ingreso_mensual' y 'newsletter' de los diccionarios\n",
    "# Usamos .apply() con lambda y .get() para extraer de forma segura (devuelve None si la clave no existe)\n",
    "df_caso[\"ingreso_mensual_str\"] = df_caso[\"perfil_dict\"].apply(lambda x: x.get(\"ingreso_mensual\") if isinstance(x, dict) else None)\n",
    "df_caso[\"newsletter\"] = df_caso[\"perfil_dict\"].apply(lambda x: x.get(\"newsletter\") if isinstance(x, dict) else None)\n",
    "\n",
    "print(\"\\nDataFrame con campos extraídos ('ingreso_mensual_str', 'newsletter'):\")\n",
    "print(df_caso[[\"id\", \"ingreso_mensual_str\", \"newsletter\"]])"
   ]
  },
  {
   "cell_type": "markdown",
   "metadata": {},
   "source": [
    "## Paso 6: Conversión tentativa a numérico del ingreso (desde MD y original)"
   ]
  },
  {
   "cell_type": "code",
   "execution_count": null,
   "metadata": {},
   "outputs": [],
   "source": [
    "# Pre-procesar: quitar puntos, manejar 'NaN' string\n",
    "df_caso[\"ingreso_mensual_str\"] = df_caso[\"ingreso_mensual_str\"].astype(str).str.replace(\".\", \"\", regex=False).str.lower()\n",
    "# Convertir a numérico, errores a NaN\n",
    "df_caso[\"ingreso_mensual_num\"] = pd.to_numeric(df_caso[\"ingreso_mensual_str\"], errors=\"coerce\")\n",
    "print(\"\\nIngreso mensual después de intentar convertir a numérico:\")\n",
    "print(df_caso[[\"id\", \"ingreso_mensual_str\", \"ingreso_mensual_num\"]])\n",
    "print(f\"\\nNaNs en ingreso mensual numérico: {df_caso['ingreso_mensual_num'].isna().sum()}\")\n",
    "# Aquí podríamos imputar los NaN si fuera necesario (ej: con mediana)"
   ]
  },
  {
   "cell_type": "markdown",
   "metadata": {},
   "source": [
    "## Paso 7: Limpieza final y Visualización simple (desde MD y original)"
   ]
  },
  {
   "cell_type": "code",
   "execution_count": null,
   "metadata": {},
   "outputs": [],
   "source": [
    "# Limpiar/corregir la columna original de edad si es necesario\n",
    "# df_caso[\"edad\"] = df_caso[\"edad_num\"] # Reemplazar la original\n",
    "# Eliminar columnas temporales o auxiliares si ya no se necesitan\n",
    "df_final = df_caso[[\n",
    "    \"id\", \"nombre\", \"edad_num\", \"provincia_norm\", \"satisfaccion\",\n",
    "    \"comentario_norm\", \"ingreso_mensual_num\", \"newsletter\"\n",
    "]].copy() # Crear una copia explícita para evitar SettingWithCopyWarning\n",
    "df_final.rename(columns={ # Renombrar columnas para claridad\n",
    "    \"edad_num\": \"edad\",\n",
    "    \"provincia_norm\": \"provincia\",\n",
    "    \"comentario_norm\": \"comentario\",\n",
    "    \"ingreso_mensual_num\": \"ingreso_mensual\"\n",
    "}, inplace=True)\n",
    "\n",
    "print(\"\\nDataFrame final limpio (parcialmente):\")\n",
    "print(df_final)\n",
    "\n",
    "# Visualización simple de satisfacción y edades (ya convertida a numérica)\n",
    "print(\"\\nGenerando visualizaciones...\")\n",
    "# Histograma de Satisfacción (ignora NaN por defecto)\n",
    "df_final[\"satisfaccion\"].plot.hist(bins=5, title=\"Distribución de Satisfacción\", edgecolor='black')\n",
    "plt.xlabel(\"Satisfacción (1-5)\")\n",
    "plt.ylabel(\"Frecuencia\")\n",
    "plt.grid(axis='y', alpha=0.75)\n",
    "plt.show()\n",
    "\n",
    "# Boxplot de Edad (ya numérica y con NaN/inválidos manejados)\n",
    "# Podríamos filtrar los valores inválidos antes de graficar si queremos ver la distribución de los válidos\n",
    "df_final[df_final[\"edad\"] >= 0][\"edad\"].plot.box(title=\"Boxplot de Edad (>=0)\")\n",
    "plt.ylabel(\"Edad\")\n",
    "plt.grid(axis='y', alpha=0.75)\n",
    "plt.show()\n",
    "\n",
    "# Boxplot de Ingreso Mensual (ya numérico)\n",
    "df_final[\"ingreso_mensual\"].plot.box(title=\"Boxplot de Ingreso Mensual\")\n",
    "plt.ylabel(\"Ingreso Mensual\")\n",
    "plt.grid(axis='y', alpha=0.75)\n",
    "plt.show()"
   ]
  },
  {
   "cell_type": "markdown",
   "metadata": {},
   "source": [
    "# BLOQUE 9 – CIERRE Y PRÓXIMOS PASOS (Desde original)"
   ]
  },
  {
   "cell_type": "code",
   "execution_count": null,
   "metadata": {},
   "outputs": [],
   "source": [
    "etapas_exploradas = [\n",
    "    \"Estructuras básicas (Listas, Dicts, JSON)\",\n",
    "    \"Datos estructurados (DataFrames)\",\n",
    "    \"Problemas típicos (NaNs, Duplicados, Tipos, Inconsistencias)\",\n",
    "    \"Calidad de datos y Diagnóstico\",\n",
    "    \"Texto libre (Normalización, Limpieza básica)\",\n",
    "    \"Visualización exploratoria básica\",\n",
    "    \"Estructuras anidadas (JSON en DataFrames)\",\n",
    "    \"Caso completo integrador\"\n",
    "]\n",
    "\n",
    "print(\"\\nEtapas exploradas en esta sesión:\")\n",
    "for i, e in enumerate(etapas_exploradas, 1):\n",
    "    print(f\"{i}. {e}\")\n",
    "\n",
    "proximos_pasos_kdd = {\n",
    "    \"Selección de variables\": \"Elegir las características más relevantes para el análisis.\",\n",
    "    \"Ingeniería de características\": \"Crear nuevas variables a partir de las existentes.\",\n",
    "    \"Transformación\": \"Codificación de categóricas, normalización/escalado de numéricas.\",\n",
    "    \"Modelado\": \"Aplicar algoritmos (Clustering, Clasificación, Regresión, etc.).\",\n",
    "    \"Evaluación\": \"Medir el rendimiento de los modelos y validar hallazgos.\",\n",
    "    \"Interpretación y Comunicación\": \"Traducir resultados técnicos a conocimiento accionable.\"\n",
    "}\n",
    "\n",
    "print(\"\\nPróximos pasos en el proceso KDD (Knowledge Discovery in Databases):\")\n",
    "for paso, desc in proximos_pasos_kdd.items():\n",
    "    print(f\"- {paso}: {desc}\")\n",
    "\n",
    "print(\"\\n--- Fin del script ---\")"
   ]
  }
 ],
 "metadata": {
  "kernelspec": {
   "display_name": "teaching",
   "language": "python",
   "name": "python3"
  },
  "language_info": {
   "codemirror_mode": {
    "name": "ipython",
    "version": 3
   },
   "file_extension": ".py",
   "mimetype": "text/x-python",
   "name": "python",
   "nbconvert_exporter": "python",
   "pygments_lexer": "ipython3",
   "version": "3.11.11"
  }
 },
 "nbformat": 4,
 "nbformat_minor": 4
}
